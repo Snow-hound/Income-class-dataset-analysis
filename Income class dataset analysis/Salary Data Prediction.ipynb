{
 "cells": [
  {
   "cell_type": "markdown",
   "id": "55a397c8",
   "metadata": {},
   "source": [
    "#  Import the Data set\n",
    "1. load the file using Pandas\n",
    "2. import the dataset or file"
   ]
  },
  {
   "cell_type": "code",
   "execution_count": 1,
   "id": "190bbdff",
   "metadata": {},
   "outputs": [],
   "source": [
    "import pandas as pd\n",
    "import numpy as np\n",
    "import seaborn as sns\n",
    "import matplotlib.pyplot as plt\n",
    "import os\n",
    "df = pd.read_csv('Salarydata.csv')"
   ]
  },
  {
   "cell_type": "code",
   "execution_count": 2,
   "id": "e61b4012",
   "metadata": {},
   "outputs": [
    {
     "data": {
      "text/html": [
       "<div>\n",
       "<style scoped>\n",
       "    .dataframe tbody tr th:only-of-type {\n",
       "        vertical-align: middle;\n",
       "    }\n",
       "\n",
       "    .dataframe tbody tr th {\n",
       "        vertical-align: top;\n",
       "    }\n",
       "\n",
       "    .dataframe thead th {\n",
       "        text-align: right;\n",
       "    }\n",
       "</style>\n",
       "<table border=\"1\" class=\"dataframe\">\n",
       "  <thead>\n",
       "    <tr style=\"text-align: right;\">\n",
       "      <th></th>\n",
       "      <th>age</th>\n",
       "      <th>workclass</th>\n",
       "      <th>fnlwgt</th>\n",
       "      <th>education</th>\n",
       "      <th>education_num</th>\n",
       "      <th>marital_status</th>\n",
       "      <th>occupation</th>\n",
       "      <th>relationship</th>\n",
       "      <th>race</th>\n",
       "      <th>sex</th>\n",
       "      <th>capital_gain</th>\n",
       "      <th>capital-loss</th>\n",
       "      <th>hours_per_week</th>\n",
       "      <th>native_country</th>\n",
       "      <th>Salary</th>\n",
       "    </tr>\n",
       "  </thead>\n",
       "  <tbody>\n",
       "    <tr>\n",
       "      <th>0</th>\n",
       "      <td>52.0</td>\n",
       "      <td>Self-emp-not-inc</td>\n",
       "      <td>209642</td>\n",
       "      <td>HS-grad</td>\n",
       "      <td>9</td>\n",
       "      <td>Married-civ-spouse</td>\n",
       "      <td>Exec-managerial</td>\n",
       "      <td>Husband</td>\n",
       "      <td>White</td>\n",
       "      <td>Male</td>\n",
       "      <td>0</td>\n",
       "      <td>0</td>\n",
       "      <td>45</td>\n",
       "      <td>United-States</td>\n",
       "      <td>&gt;50K</td>\n",
       "    </tr>\n",
       "    <tr>\n",
       "      <th>1</th>\n",
       "      <td>31.0</td>\n",
       "      <td>Private</td>\n",
       "      <td>45781</td>\n",
       "      <td>Masters</td>\n",
       "      <td>14</td>\n",
       "      <td>Never-married</td>\n",
       "      <td>Prof-specialty</td>\n",
       "      <td>Not-in-family</td>\n",
       "      <td>White</td>\n",
       "      <td>Female</td>\n",
       "      <td>14084</td>\n",
       "      <td>0</td>\n",
       "      <td>50</td>\n",
       "      <td>United-States</td>\n",
       "      <td>&gt;50K</td>\n",
       "    </tr>\n",
       "    <tr>\n",
       "      <th>2</th>\n",
       "      <td>42.0</td>\n",
       "      <td>Private</td>\n",
       "      <td>159449</td>\n",
       "      <td>Bachelors</td>\n",
       "      <td>13</td>\n",
       "      <td>Married-civ-spouse</td>\n",
       "      <td>Exec-managerial</td>\n",
       "      <td>Husband</td>\n",
       "      <td>White</td>\n",
       "      <td>Male</td>\n",
       "      <td>5178</td>\n",
       "      <td>0</td>\n",
       "      <td>40</td>\n",
       "      <td>United-States</td>\n",
       "      <td>&gt;50K</td>\n",
       "    </tr>\n",
       "    <tr>\n",
       "      <th>3</th>\n",
       "      <td>37.0</td>\n",
       "      <td>Private</td>\n",
       "      <td>280464</td>\n",
       "      <td>Some-college</td>\n",
       "      <td>10</td>\n",
       "      <td>Married-civ-spouse</td>\n",
       "      <td>Exec-managerial</td>\n",
       "      <td>Husband</td>\n",
       "      <td>Black</td>\n",
       "      <td>Male</td>\n",
       "      <td>0</td>\n",
       "      <td>0</td>\n",
       "      <td>80</td>\n",
       "      <td>United-States</td>\n",
       "      <td>&gt;50K</td>\n",
       "    </tr>\n",
       "    <tr>\n",
       "      <th>4</th>\n",
       "      <td>30.0</td>\n",
       "      <td>State-gov</td>\n",
       "      <td>141297</td>\n",
       "      <td>Bachelors</td>\n",
       "      <td>13</td>\n",
       "      <td>Married-civ-spouse</td>\n",
       "      <td>Prof-specialty</td>\n",
       "      <td>Husband</td>\n",
       "      <td>Asian-Pac-Islander</td>\n",
       "      <td>Male</td>\n",
       "      <td>0</td>\n",
       "      <td>0</td>\n",
       "      <td>40</td>\n",
       "      <td>India</td>\n",
       "      <td>&gt;50K</td>\n",
       "    </tr>\n",
       "  </tbody>\n",
       "</table>\n",
       "</div>"
      ],
      "text/plain": [
       "    age          workclass  fnlwgt      education  education_num  \\\n",
       "0  52.0   Self-emp-not-inc  209642        HS-grad              9   \n",
       "1  31.0            Private   45781        Masters             14   \n",
       "2  42.0            Private  159449      Bachelors             13   \n",
       "3  37.0            Private  280464   Some-college             10   \n",
       "4  30.0          State-gov  141297      Bachelors             13   \n",
       "\n",
       "        marital_status        occupation    relationship                 race  \\\n",
       "0   Married-civ-spouse   Exec-managerial         Husband                White   \n",
       "1        Never-married    Prof-specialty   Not-in-family                White   \n",
       "2   Married-civ-spouse   Exec-managerial         Husband                White   \n",
       "3   Married-civ-spouse   Exec-managerial         Husband                Black   \n",
       "4   Married-civ-spouse    Prof-specialty         Husband   Asian-Pac-Islander   \n",
       "\n",
       "       sex  capital_gain  capital-loss  hours_per_week  native_country Salary  \n",
       "0     Male             0             0              45   United-States   >50K  \n",
       "1   Female         14084             0              50   United-States   >50K  \n",
       "2     Male          5178             0              40   United-States   >50K  \n",
       "3     Male             0             0              80   United-States   >50K  \n",
       "4     Male             0             0              40           India   >50K  "
      ]
     },
     "execution_count": 2,
     "metadata": {},
     "output_type": "execute_result"
    }
   ],
   "source": [
    "df.head()"
   ]
  },
  {
   "cell_type": "code",
   "execution_count": 3,
   "id": "11eb997c",
   "metadata": {},
   "outputs": [
    {
     "data": {
      "text/html": [
       "<div>\n",
       "<style scoped>\n",
       "    .dataframe tbody tr th:only-of-type {\n",
       "        vertical-align: middle;\n",
       "    }\n",
       "\n",
       "    .dataframe tbody tr th {\n",
       "        vertical-align: top;\n",
       "    }\n",
       "\n",
       "    .dataframe thead th {\n",
       "        text-align: right;\n",
       "    }\n",
       "</style>\n",
       "<table border=\"1\" class=\"dataframe\">\n",
       "  <thead>\n",
       "    <tr style=\"text-align: right;\">\n",
       "      <th></th>\n",
       "      <th>age</th>\n",
       "      <th>workclass</th>\n",
       "      <th>fnlwgt</th>\n",
       "      <th>education</th>\n",
       "      <th>education_num</th>\n",
       "      <th>marital_status</th>\n",
       "      <th>occupation</th>\n",
       "      <th>relationship</th>\n",
       "      <th>race</th>\n",
       "      <th>sex</th>\n",
       "      <th>capital_gain</th>\n",
       "      <th>capital-loss</th>\n",
       "      <th>hours_per_week</th>\n",
       "      <th>native_country</th>\n",
       "      <th>Salary</th>\n",
       "    </tr>\n",
       "  </thead>\n",
       "  <tbody>\n",
       "    <tr>\n",
       "      <th>27890</th>\n",
       "      <td>27.0</td>\n",
       "      <td>Private</td>\n",
       "      <td>257302</td>\n",
       "      <td>Assoc-acdm</td>\n",
       "      <td>12</td>\n",
       "      <td>Married-civ-spouse</td>\n",
       "      <td>Tech-support</td>\n",
       "      <td>Wife</td>\n",
       "      <td>White</td>\n",
       "      <td>Female</td>\n",
       "      <td>0</td>\n",
       "      <td>0</td>\n",
       "      <td>38</td>\n",
       "      <td>United-States</td>\n",
       "      <td>&lt;=50K</td>\n",
       "    </tr>\n",
       "    <tr>\n",
       "      <th>27891</th>\n",
       "      <td>40.0</td>\n",
       "      <td>Private</td>\n",
       "      <td>154374</td>\n",
       "      <td>HS-grad</td>\n",
       "      <td>9</td>\n",
       "      <td>Married-civ-spouse</td>\n",
       "      <td>Machine-op-inspct</td>\n",
       "      <td>Husband</td>\n",
       "      <td>White</td>\n",
       "      <td>Male</td>\n",
       "      <td>0</td>\n",
       "      <td>0</td>\n",
       "      <td>40</td>\n",
       "      <td>United-States</td>\n",
       "      <td>&gt;50K</td>\n",
       "    </tr>\n",
       "    <tr>\n",
       "      <th>27892</th>\n",
       "      <td>58.0</td>\n",
       "      <td>Private</td>\n",
       "      <td>151910</td>\n",
       "      <td>HS-grad</td>\n",
       "      <td>9</td>\n",
       "      <td>Widowed</td>\n",
       "      <td>Adm-clerical</td>\n",
       "      <td>Unmarried</td>\n",
       "      <td>White</td>\n",
       "      <td>Female</td>\n",
       "      <td>0</td>\n",
       "      <td>0</td>\n",
       "      <td>40</td>\n",
       "      <td>United-States</td>\n",
       "      <td>&lt;=50K</td>\n",
       "    </tr>\n",
       "    <tr>\n",
       "      <th>27893</th>\n",
       "      <td>22.0</td>\n",
       "      <td>Private</td>\n",
       "      <td>201490</td>\n",
       "      <td>HS-grad</td>\n",
       "      <td>9</td>\n",
       "      <td>Never-married</td>\n",
       "      <td>Adm-clerical</td>\n",
       "      <td>Own-child</td>\n",
       "      <td>White</td>\n",
       "      <td>Male</td>\n",
       "      <td>0</td>\n",
       "      <td>0</td>\n",
       "      <td>20</td>\n",
       "      <td>United-States</td>\n",
       "      <td>&lt;=50K</td>\n",
       "    </tr>\n",
       "    <tr>\n",
       "      <th>27894</th>\n",
       "      <td>52.0</td>\n",
       "      <td>Self-emp-inc</td>\n",
       "      <td>287927</td>\n",
       "      <td>HS-grad</td>\n",
       "      <td>9</td>\n",
       "      <td>Married-civ-spouse</td>\n",
       "      <td>Exec-managerial</td>\n",
       "      <td>Wife</td>\n",
       "      <td>White</td>\n",
       "      <td>Female</td>\n",
       "      <td>15024</td>\n",
       "      <td>0</td>\n",
       "      <td>40</td>\n",
       "      <td>United-States</td>\n",
       "      <td>&gt;50K</td>\n",
       "    </tr>\n",
       "  </tbody>\n",
       "</table>\n",
       "</div>"
      ],
      "text/plain": [
       "        age      workclass  fnlwgt    education  education_num  \\\n",
       "27890  27.0        Private  257302   Assoc-acdm             12   \n",
       "27891  40.0        Private  154374      HS-grad              9   \n",
       "27892  58.0        Private  151910      HS-grad              9   \n",
       "27893  22.0        Private  201490      HS-grad              9   \n",
       "27894  52.0   Self-emp-inc  287927      HS-grad              9   \n",
       "\n",
       "            marital_status          occupation relationship    race      sex  \\\n",
       "27890   Married-civ-spouse        Tech-support         Wife   White   Female   \n",
       "27891   Married-civ-spouse   Machine-op-inspct      Husband   White     Male   \n",
       "27892              Widowed        Adm-clerical    Unmarried   White   Female   \n",
       "27893        Never-married        Adm-clerical    Own-child   White     Male   \n",
       "27894   Married-civ-spouse     Exec-managerial         Wife   White   Female   \n",
       "\n",
       "       capital_gain  capital-loss  hours_per_week  native_country  Salary  \n",
       "27890             0             0              38   United-States   <=50K  \n",
       "27891             0             0              40   United-States    >50K  \n",
       "27892             0             0              40   United-States   <=50K  \n",
       "27893             0             0              20   United-States   <=50K  \n",
       "27894         15024             0              40   United-States    >50K  "
      ]
     },
     "execution_count": 3,
     "metadata": {},
     "output_type": "execute_result"
    }
   ],
   "source": [
    "df.tail()"
   ]
  },
  {
   "cell_type": "markdown",
   "id": "5bd97bb9",
   "metadata": {},
   "source": [
    "# Data Preparation and cleaning\n",
    "1. Look at some information about the data and columns\n",
    "2. fix any missing or incorrect values"
   ]
  },
  {
   "cell_type": "code",
   "execution_count": 4,
   "id": "3c435af7",
   "metadata": {},
   "outputs": [
    {
     "data": {
      "text/html": [
       "<div>\n",
       "<style scoped>\n",
       "    .dataframe tbody tr th:only-of-type {\n",
       "        vertical-align: middle;\n",
       "    }\n",
       "\n",
       "    .dataframe tbody tr th {\n",
       "        vertical-align: top;\n",
       "    }\n",
       "\n",
       "    .dataframe thead th {\n",
       "        text-align: right;\n",
       "    }\n",
       "</style>\n",
       "<table border=\"1\" class=\"dataframe\">\n",
       "  <thead>\n",
       "    <tr style=\"text-align: right;\">\n",
       "      <th></th>\n",
       "      <th>age</th>\n",
       "      <th>workclass</th>\n",
       "      <th>fnlwgt</th>\n",
       "      <th>education</th>\n",
       "      <th>education_num</th>\n",
       "      <th>marital_status</th>\n",
       "      <th>occupation</th>\n",
       "      <th>relationship</th>\n",
       "      <th>race</th>\n",
       "      <th>sex</th>\n",
       "      <th>capital_gain</th>\n",
       "      <th>capital-loss</th>\n",
       "      <th>hours_per_week</th>\n",
       "      <th>native_country</th>\n",
       "      <th>Salary</th>\n",
       "    </tr>\n",
       "  </thead>\n",
       "  <tbody>\n",
       "    <tr>\n",
       "      <th>0</th>\n",
       "      <td>52.0</td>\n",
       "      <td>Self-emp-not-inc</td>\n",
       "      <td>209642</td>\n",
       "      <td>HS-grad</td>\n",
       "      <td>9</td>\n",
       "      <td>Married-civ-spouse</td>\n",
       "      <td>Exec-managerial</td>\n",
       "      <td>Husband</td>\n",
       "      <td>White</td>\n",
       "      <td>Male</td>\n",
       "      <td>0</td>\n",
       "      <td>0</td>\n",
       "      <td>45</td>\n",
       "      <td>United-States</td>\n",
       "      <td>&gt;50K</td>\n",
       "    </tr>\n",
       "    <tr>\n",
       "      <th>1</th>\n",
       "      <td>31.0</td>\n",
       "      <td>Private</td>\n",
       "      <td>45781</td>\n",
       "      <td>Masters</td>\n",
       "      <td>14</td>\n",
       "      <td>Never-married</td>\n",
       "      <td>Prof-specialty</td>\n",
       "      <td>Not-in-family</td>\n",
       "      <td>White</td>\n",
       "      <td>Female</td>\n",
       "      <td>14084</td>\n",
       "      <td>0</td>\n",
       "      <td>50</td>\n",
       "      <td>United-States</td>\n",
       "      <td>&gt;50K</td>\n",
       "    </tr>\n",
       "    <tr>\n",
       "      <th>2</th>\n",
       "      <td>42.0</td>\n",
       "      <td>Private</td>\n",
       "      <td>159449</td>\n",
       "      <td>Bachelors</td>\n",
       "      <td>13</td>\n",
       "      <td>Married-civ-spouse</td>\n",
       "      <td>Exec-managerial</td>\n",
       "      <td>Husband</td>\n",
       "      <td>White</td>\n",
       "      <td>Male</td>\n",
       "      <td>5178</td>\n",
       "      <td>0</td>\n",
       "      <td>40</td>\n",
       "      <td>United-States</td>\n",
       "      <td>&gt;50K</td>\n",
       "    </tr>\n",
       "    <tr>\n",
       "      <th>3</th>\n",
       "      <td>37.0</td>\n",
       "      <td>Private</td>\n",
       "      <td>280464</td>\n",
       "      <td>Some-college</td>\n",
       "      <td>10</td>\n",
       "      <td>Married-civ-spouse</td>\n",
       "      <td>Exec-managerial</td>\n",
       "      <td>Husband</td>\n",
       "      <td>Black</td>\n",
       "      <td>Male</td>\n",
       "      <td>0</td>\n",
       "      <td>0</td>\n",
       "      <td>80</td>\n",
       "      <td>United-States</td>\n",
       "      <td>&gt;50K</td>\n",
       "    </tr>\n",
       "    <tr>\n",
       "      <th>4</th>\n",
       "      <td>30.0</td>\n",
       "      <td>State-gov</td>\n",
       "      <td>141297</td>\n",
       "      <td>Bachelors</td>\n",
       "      <td>13</td>\n",
       "      <td>Married-civ-spouse</td>\n",
       "      <td>Prof-specialty</td>\n",
       "      <td>Husband</td>\n",
       "      <td>Asian-Pac-Islander</td>\n",
       "      <td>Male</td>\n",
       "      <td>0</td>\n",
       "      <td>0</td>\n",
       "      <td>40</td>\n",
       "      <td>India</td>\n",
       "      <td>&gt;50K</td>\n",
       "    </tr>\n",
       "    <tr>\n",
       "      <th>...</th>\n",
       "      <td>...</td>\n",
       "      <td>...</td>\n",
       "      <td>...</td>\n",
       "      <td>...</td>\n",
       "      <td>...</td>\n",
       "      <td>...</td>\n",
       "      <td>...</td>\n",
       "      <td>...</td>\n",
       "      <td>...</td>\n",
       "      <td>...</td>\n",
       "      <td>...</td>\n",
       "      <td>...</td>\n",
       "      <td>...</td>\n",
       "      <td>...</td>\n",
       "      <td>...</td>\n",
       "    </tr>\n",
       "    <tr>\n",
       "      <th>27890</th>\n",
       "      <td>27.0</td>\n",
       "      <td>Private</td>\n",
       "      <td>257302</td>\n",
       "      <td>Assoc-acdm</td>\n",
       "      <td>12</td>\n",
       "      <td>Married-civ-spouse</td>\n",
       "      <td>Tech-support</td>\n",
       "      <td>Wife</td>\n",
       "      <td>White</td>\n",
       "      <td>Female</td>\n",
       "      <td>0</td>\n",
       "      <td>0</td>\n",
       "      <td>38</td>\n",
       "      <td>United-States</td>\n",
       "      <td>&lt;=50K</td>\n",
       "    </tr>\n",
       "    <tr>\n",
       "      <th>27891</th>\n",
       "      <td>40.0</td>\n",
       "      <td>Private</td>\n",
       "      <td>154374</td>\n",
       "      <td>HS-grad</td>\n",
       "      <td>9</td>\n",
       "      <td>Married-civ-spouse</td>\n",
       "      <td>Machine-op-inspct</td>\n",
       "      <td>Husband</td>\n",
       "      <td>White</td>\n",
       "      <td>Male</td>\n",
       "      <td>0</td>\n",
       "      <td>0</td>\n",
       "      <td>40</td>\n",
       "      <td>United-States</td>\n",
       "      <td>&gt;50K</td>\n",
       "    </tr>\n",
       "    <tr>\n",
       "      <th>27892</th>\n",
       "      <td>58.0</td>\n",
       "      <td>Private</td>\n",
       "      <td>151910</td>\n",
       "      <td>HS-grad</td>\n",
       "      <td>9</td>\n",
       "      <td>Widowed</td>\n",
       "      <td>Adm-clerical</td>\n",
       "      <td>Unmarried</td>\n",
       "      <td>White</td>\n",
       "      <td>Female</td>\n",
       "      <td>0</td>\n",
       "      <td>0</td>\n",
       "      <td>40</td>\n",
       "      <td>United-States</td>\n",
       "      <td>&lt;=50K</td>\n",
       "    </tr>\n",
       "    <tr>\n",
       "      <th>27893</th>\n",
       "      <td>22.0</td>\n",
       "      <td>Private</td>\n",
       "      <td>201490</td>\n",
       "      <td>HS-grad</td>\n",
       "      <td>9</td>\n",
       "      <td>Never-married</td>\n",
       "      <td>Adm-clerical</td>\n",
       "      <td>Own-child</td>\n",
       "      <td>White</td>\n",
       "      <td>Male</td>\n",
       "      <td>0</td>\n",
       "      <td>0</td>\n",
       "      <td>20</td>\n",
       "      <td>United-States</td>\n",
       "      <td>&lt;=50K</td>\n",
       "    </tr>\n",
       "    <tr>\n",
       "      <th>27894</th>\n",
       "      <td>52.0</td>\n",
       "      <td>Self-emp-inc</td>\n",
       "      <td>287927</td>\n",
       "      <td>HS-grad</td>\n",
       "      <td>9</td>\n",
       "      <td>Married-civ-spouse</td>\n",
       "      <td>Exec-managerial</td>\n",
       "      <td>Wife</td>\n",
       "      <td>White</td>\n",
       "      <td>Female</td>\n",
       "      <td>15024</td>\n",
       "      <td>0</td>\n",
       "      <td>40</td>\n",
       "      <td>United-States</td>\n",
       "      <td>&gt;50K</td>\n",
       "    </tr>\n",
       "  </tbody>\n",
       "</table>\n",
       "<p>27895 rows × 15 columns</p>\n",
       "</div>"
      ],
      "text/plain": [
       "        age          workclass  fnlwgt      education  education_num  \\\n",
       "0      52.0   Self-emp-not-inc  209642        HS-grad              9   \n",
       "1      31.0            Private   45781        Masters             14   \n",
       "2      42.0            Private  159449      Bachelors             13   \n",
       "3      37.0            Private  280464   Some-college             10   \n",
       "4      30.0          State-gov  141297      Bachelors             13   \n",
       "...     ...                ...     ...            ...            ...   \n",
       "27890  27.0            Private  257302     Assoc-acdm             12   \n",
       "27891  40.0            Private  154374        HS-grad              9   \n",
       "27892  58.0            Private  151910        HS-grad              9   \n",
       "27893  22.0            Private  201490        HS-grad              9   \n",
       "27894  52.0       Self-emp-inc  287927        HS-grad              9   \n",
       "\n",
       "            marital_status          occupation    relationship  \\\n",
       "0       Married-civ-spouse     Exec-managerial         Husband   \n",
       "1            Never-married      Prof-specialty   Not-in-family   \n",
       "2       Married-civ-spouse     Exec-managerial         Husband   \n",
       "3       Married-civ-spouse     Exec-managerial         Husband   \n",
       "4       Married-civ-spouse      Prof-specialty         Husband   \n",
       "...                    ...                 ...             ...   \n",
       "27890   Married-civ-spouse        Tech-support            Wife   \n",
       "27891   Married-civ-spouse   Machine-op-inspct         Husband   \n",
       "27892              Widowed        Adm-clerical       Unmarried   \n",
       "27893        Never-married        Adm-clerical       Own-child   \n",
       "27894   Married-civ-spouse     Exec-managerial            Wife   \n",
       "\n",
       "                      race      sex  capital_gain  capital-loss  \\\n",
       "0                    White     Male             0             0   \n",
       "1                    White   Female         14084             0   \n",
       "2                    White     Male          5178             0   \n",
       "3                    Black     Male             0             0   \n",
       "4       Asian-Pac-Islander     Male             0             0   \n",
       "...                    ...      ...           ...           ...   \n",
       "27890                White   Female             0             0   \n",
       "27891                White     Male             0             0   \n",
       "27892                White   Female             0             0   \n",
       "27893                White     Male             0             0   \n",
       "27894                White   Female         15024             0   \n",
       "\n",
       "       hours_per_week  native_country  Salary  \n",
       "0                  45   United-States    >50K  \n",
       "1                  50   United-States    >50K  \n",
       "2                  40   United-States    >50K  \n",
       "3                  80   United-States    >50K  \n",
       "4                  40           India    >50K  \n",
       "...               ...             ...     ...  \n",
       "27890              38   United-States   <=50K  \n",
       "27891              40   United-States    >50K  \n",
       "27892              40   United-States   <=50K  \n",
       "27893              20   United-States   <=50K  \n",
       "27894              40   United-States    >50K  \n",
       "\n",
       "[27895 rows x 15 columns]"
      ]
     },
     "execution_count": 4,
     "metadata": {},
     "output_type": "execute_result"
    }
   ],
   "source": [
    "df"
   ]
  },
  {
   "cell_type": "code",
   "execution_count": 5,
   "id": "71cae88c",
   "metadata": {},
   "outputs": [
    {
     "data": {
      "text/plain": [
       "Index(['age', 'workclass', 'fnlwgt', 'education', 'education_num',\n",
       "       'marital_status', 'occupation', 'relationship', 'race', 'sex',\n",
       "       'capital_gain', 'capital-loss', 'hours_per_week', 'native_country',\n",
       "       'Salary'],\n",
       "      dtype='object')"
      ]
     },
     "execution_count": 5,
     "metadata": {},
     "output_type": "execute_result"
    }
   ],
   "source": [
    "df.columns"
   ]
  },
  {
   "cell_type": "code",
   "execution_count": 6,
   "id": "5fb31be2",
   "metadata": {},
   "outputs": [
    {
     "name": "stdout",
     "output_type": "stream",
     "text": [
      "<class 'pandas.core.frame.DataFrame'>\n",
      "RangeIndex: 27895 entries, 0 to 27894\n",
      "Data columns (total 15 columns):\n",
      " #   Column          Non-Null Count  Dtype  \n",
      "---  ------          --------------  -----  \n",
      " 0   age             27852 non-null  float64\n",
      " 1   workclass       27895 non-null  object \n",
      " 2   fnlwgt          27895 non-null  int64  \n",
      " 3   education       27895 non-null  object \n",
      " 4   education_num   27895 non-null  int64  \n",
      " 5   marital_status  27895 non-null  object \n",
      " 6   occupation      27895 non-null  object \n",
      " 7   relationship    27895 non-null  object \n",
      " 8   race            27895 non-null  object \n",
      " 9   sex             27810 non-null  object \n",
      " 10  capital_gain    27895 non-null  int64  \n",
      " 11  capital-loss    27895 non-null  int64  \n",
      " 12  hours_per_week  27895 non-null  int64  \n",
      " 13  native_country  27895 non-null  object \n",
      " 14  Salary          27895 non-null  object \n",
      "dtypes: float64(1), int64(5), object(9)\n",
      "memory usage: 3.2+ MB\n"
     ]
    }
   ],
   "source": [
    "# An high-level overview on the dataset\n",
    "df.info()"
   ]
  },
  {
   "cell_type": "code",
   "execution_count": 7,
   "id": "a06f5a5f",
   "metadata": {},
   "outputs": [
    {
     "data": {
      "text/html": [
       "<div>\n",
       "<style scoped>\n",
       "    .dataframe tbody tr th:only-of-type {\n",
       "        vertical-align: middle;\n",
       "    }\n",
       "\n",
       "    .dataframe tbody tr th {\n",
       "        vertical-align: top;\n",
       "    }\n",
       "\n",
       "    .dataframe thead th {\n",
       "        text-align: right;\n",
       "    }\n",
       "</style>\n",
       "<table border=\"1\" class=\"dataframe\">\n",
       "  <thead>\n",
       "    <tr style=\"text-align: right;\">\n",
       "      <th></th>\n",
       "      <th>age</th>\n",
       "      <th>fnlwgt</th>\n",
       "      <th>education_num</th>\n",
       "      <th>capital_gain</th>\n",
       "      <th>capital-loss</th>\n",
       "      <th>hours_per_week</th>\n",
       "    </tr>\n",
       "  </thead>\n",
       "  <tbody>\n",
       "    <tr>\n",
       "      <th>count</th>\n",
       "      <td>27852.000000</td>\n",
       "      <td>2.789500e+04</td>\n",
       "      <td>27895.000000</td>\n",
       "      <td>27895.00000</td>\n",
       "      <td>27895.000000</td>\n",
       "      <td>27895.000000</td>\n",
       "    </tr>\n",
       "    <tr>\n",
       "      <th>mean</th>\n",
       "      <td>38.891893</td>\n",
       "      <td>1.896748e+05</td>\n",
       "      <td>10.163506</td>\n",
       "      <td>1234.69102</td>\n",
       "      <td>92.382757</td>\n",
       "      <td>40.688080</td>\n",
       "    </tr>\n",
       "    <tr>\n",
       "      <th>std</th>\n",
       "      <td>13.579696</td>\n",
       "      <td>1.053610e+05</td>\n",
       "      <td>2.579594</td>\n",
       "      <td>7960.66043</td>\n",
       "      <td>415.149958</td>\n",
       "      <td>12.370796</td>\n",
       "    </tr>\n",
       "    <tr>\n",
       "      <th>min</th>\n",
       "      <td>17.000000</td>\n",
       "      <td>1.228500e+04</td>\n",
       "      <td>1.000000</td>\n",
       "      <td>0.00000</td>\n",
       "      <td>0.000000</td>\n",
       "      <td>1.000000</td>\n",
       "    </tr>\n",
       "    <tr>\n",
       "      <th>25%</th>\n",
       "      <td>28.000000</td>\n",
       "      <td>1.179630e+05</td>\n",
       "      <td>9.000000</td>\n",
       "      <td>0.00000</td>\n",
       "      <td>0.000000</td>\n",
       "      <td>40.000000</td>\n",
       "    </tr>\n",
       "    <tr>\n",
       "      <th>50%</th>\n",
       "      <td>37.000000</td>\n",
       "      <td>1.780500e+05</td>\n",
       "      <td>10.000000</td>\n",
       "      <td>0.00000</td>\n",
       "      <td>0.000000</td>\n",
       "      <td>40.000000</td>\n",
       "    </tr>\n",
       "    <tr>\n",
       "      <th>75%</th>\n",
       "      <td>48.000000</td>\n",
       "      <td>2.368045e+05</td>\n",
       "      <td>13.000000</td>\n",
       "      <td>0.00000</td>\n",
       "      <td>0.000000</td>\n",
       "      <td>45.000000</td>\n",
       "    </tr>\n",
       "    <tr>\n",
       "      <th>max</th>\n",
       "      <td>90.000000</td>\n",
       "      <td>1.484705e+06</td>\n",
       "      <td>16.000000</td>\n",
       "      <td>99999.00000</td>\n",
       "      <td>4356.000000</td>\n",
       "      <td>99.000000</td>\n",
       "    </tr>\n",
       "  </tbody>\n",
       "</table>\n",
       "</div>"
      ],
      "text/plain": [
       "                age        fnlwgt  education_num  capital_gain  capital-loss  \\\n",
       "count  27852.000000  2.789500e+04   27895.000000   27895.00000  27895.000000   \n",
       "mean      38.891893  1.896748e+05      10.163506    1234.69102     92.382757   \n",
       "std       13.579696  1.053610e+05       2.579594    7960.66043    415.149958   \n",
       "min       17.000000  1.228500e+04       1.000000       0.00000      0.000000   \n",
       "25%       28.000000  1.179630e+05       9.000000       0.00000      0.000000   \n",
       "50%       37.000000  1.780500e+05      10.000000       0.00000      0.000000   \n",
       "75%       48.000000  2.368045e+05      13.000000       0.00000      0.000000   \n",
       "max       90.000000  1.484705e+06      16.000000   99999.00000   4356.000000   \n",
       "\n",
       "       hours_per_week  \n",
       "count    27895.000000  \n",
       "mean        40.688080  \n",
       "std         12.370796  \n",
       "min          1.000000  \n",
       "25%         40.000000  \n",
       "50%         40.000000  \n",
       "75%         45.000000  \n",
       "max         99.000000  "
      ]
     },
     "execution_count": 7,
     "metadata": {},
     "output_type": "execute_result"
    }
   ],
   "source": [
    "# some statistical values in numeric features\n",
    "df.describe()"
   ]
  },
  {
   "cell_type": "code",
   "execution_count": 8,
   "id": "173f7018",
   "metadata": {},
   "outputs": [
    {
     "data": {
      "text/plain": [
       "Index(['age', 'fnlwgt', 'education_num', 'capital_gain', 'capital-loss',\n",
       "       'hours_per_week'],\n",
       "      dtype='object')"
      ]
     },
     "execution_count": 8,
     "metadata": {},
     "output_type": "execute_result"
    }
   ],
   "source": [
    "# to find out how many numeric columns are present in data\n",
    "df.select_dtypes(exclude=['object', 'category']).columns"
   ]
  },
  {
   "cell_type": "code",
   "execution_count": 9,
   "id": "33d3f55b",
   "metadata": {},
   "outputs": [
    {
     "data": {
      "text/plain": [
       " Private             19370\n",
       " Self-emp-not-inc     2187\n",
       " Local-gov            1812\n",
       " ?                    1503\n",
       " State-gov            1120\n",
       " Self-emp-inc         1030\n",
       " Federal-gov           856\n",
       " Without-pay            10\n",
       " Never-worked            7\n",
       "Name: workclass, dtype: int64"
      ]
     },
     "execution_count": 9,
     "metadata": {},
     "output_type": "execute_result"
    }
   ],
   "source": [
    "#let's look into each (categorical) feature one-by-one.We will look for missing values, what are the values in the features and how the values are distributed.\n",
    "df['workclass'].value_counts()"
   ]
  },
  {
   "cell_type": "code",
   "execution_count": 10,
   "id": "136e4257",
   "metadata": {},
   "outputs": [
    {
     "data": {
      "text/plain": [
       " HS-grad         8857\n",
       " Some-college    6181\n",
       " Bachelors       4760\n",
       " Masters         1566\n",
       " Assoc-voc       1181\n",
       " 11th             949\n",
       " Assoc-acdm       920\n",
       " 10th             770\n",
       " Prof-school      546\n",
       " 7th-8th          527\n",
       " 9th              430\n",
       " Doctorate        397\n",
       " 12th             375\n",
       " 5th-6th          262\n",
       " 1st-4th          130\n",
       " Preschool         44\n",
       "Name: education, dtype: int64"
      ]
     },
     "execution_count": 10,
     "metadata": {},
     "output_type": "execute_result"
    }
   ],
   "source": [
    "df['education'].value_counts()"
   ]
  },
  {
   "cell_type": "code",
   "execution_count": 11,
   "id": "4ac8bb90",
   "metadata": {},
   "outputs": [
    {
     "data": {
      "text/plain": [
       " Married-civ-spouse       13423\n",
       " Never-married             8734\n",
       " Divorced                  3707\n",
       " Separated                  848\n",
       " Widowed                    817\n",
       " Married-spouse-absent      347\n",
       " Married-AF-spouse           19\n",
       "Name: marital_status, dtype: int64"
      ]
     },
     "execution_count": 11,
     "metadata": {},
     "output_type": "execute_result"
    }
   ],
   "source": [
    "df['marital_status'].value_counts()"
   ]
  },
  {
   "cell_type": "code",
   "execution_count": 12,
   "id": "4ee30c85",
   "metadata": {},
   "outputs": [
    {
     "data": {
      "text/plain": [
       " Prof-specialty       3736\n",
       " Exec-managerial      3680\n",
       " Craft-repair         3472\n",
       " Adm-clerical         3179\n",
       " Sales                3142\n",
       " Other-service        2712\n",
       " Machine-op-inspct    1662\n",
       " ?                    1510\n",
       " Transport-moving     1353\n",
       " Handlers-cleaners    1113\n",
       " Farming-fishing       839\n",
       " Tech-support          797\n",
       " Protective-serv       572\n",
       " Priv-house-serv       121\n",
       " Armed-Forces            7\n",
       "Name: occupation, dtype: int64"
      ]
     },
     "execution_count": 12,
     "metadata": {},
     "output_type": "execute_result"
    }
   ],
   "source": [
    "df['occupation'].value_counts()"
   ]
  },
  {
   "cell_type": "code",
   "execution_count": 13,
   "id": "3017d1e4",
   "metadata": {},
   "outputs": [
    {
     "data": {
      "text/plain": [
       " Husband           11815\n",
       " Not-in-family      6874\n",
       " Own-child          4151\n",
       " Unmarried          2842\n",
       " Wife               1417\n",
       " Other-relative      796\n",
       "Name: relationship, dtype: int64"
      ]
     },
     "execution_count": 13,
     "metadata": {},
     "output_type": "execute_result"
    }
   ],
   "source": [
    "df['relationship'].value_counts()"
   ]
  },
  {
   "cell_type": "code",
   "execution_count": 14,
   "id": "9fb97eea",
   "metadata": {},
   "outputs": [
    {
     "data": {
      "text/plain": [
       " White                 23955\n",
       " Black                  2557\n",
       " Asian-Pac-Islander      889\n",
       " Amer-Indian-Eskimo      259\n",
       " Other                   235\n",
       "Name: race, dtype: int64"
      ]
     },
     "execution_count": 14,
     "metadata": {},
     "output_type": "execute_result"
    }
   ],
   "source": [
    "df['race'].value_counts()"
   ]
  },
  {
   "cell_type": "code",
   "execution_count": 15,
   "id": "ed7ddaec",
   "metadata": {},
   "outputs": [
    {
     "data": {
      "text/plain": [
       " Male      18870\n",
       " Female     8940\n",
       "Name: sex, dtype: int64"
      ]
     },
     "execution_count": 15,
     "metadata": {},
     "output_type": "execute_result"
    }
   ],
   "source": [
    "df['sex'].value_counts()"
   ]
  },
  {
   "cell_type": "code",
   "execution_count": 16,
   "id": "d18a2503",
   "metadata": {},
   "outputs": [
    {
     "data": {
      "text/plain": [
       "array([' United-States', ' India', ' ?', ' South', ' Honduras', ' Canada',\n",
       "       ' Iran', ' Mexico', ' Cambodia', ' Thailand', ' Taiwan',\n",
       "       ' Portugal', ' England', ' China', ' Philippines', ' Jamaica',\n",
       "       ' Germany', ' Japan', ' Italy', ' Dominican-Republic', ' Cuba',\n",
       "       ' Greece', ' Columbia', ' El-Salvador', ' Nicaragua',\n",
       "       ' Puerto-Rico', ' Ireland', ' Poland', ' Trinadad&Tobago', ' Peru',\n",
       "       ' Guatemala', ' France', ' Vietnam', ' Ecuador', ' Haiti',\n",
       "       ' Outlying-US(Guam-USVI-etc)', ' Yugoslavia', ' Laos', ' Scotland',\n",
       "       ' Hungary', ' Hong', ' Holand-Netherlands'], dtype=object)"
      ]
     },
     "execution_count": 16,
     "metadata": {},
     "output_type": "execute_result"
    }
   ],
   "source": [
    "df['native_country'].unique()"
   ]
  },
  {
   "cell_type": "code",
   "execution_count": 17,
   "id": "612f6542",
   "metadata": {},
   "outputs": [
    {
     "data": {
      "text/plain": [
       " <=50K    20054\n",
       " >50K      7841\n",
       "Name: Salary, dtype: int64"
      ]
     },
     "execution_count": 17,
     "metadata": {},
     "output_type": "execute_result"
    }
   ],
   "source": [
    "df['Salary'].value_counts()"
   ]
  },
  {
   "cell_type": "code",
   "execution_count": 18,
   "id": "59acad7a",
   "metadata": {},
   "outputs": [],
   "source": [
    "# let's replace ' ?' by NaN\n",
    "df['workclass'].replace(' ?', np.nan, inplace=True)\n",
    "df['occupation'].replace(' ?', np.nan, inplace=True)\n",
    "df['native_country'].replace(' ?', np.nan, inplace=True)"
   ]
  },
  {
   "cell_type": "code",
   "execution_count": 19,
   "id": "7e9ac602",
   "metadata": {},
   "outputs": [
    {
     "data": {
      "text/plain": [
       "age                 43\n",
       "workclass         1503\n",
       "fnlwgt               0\n",
       "education            0\n",
       "education_num        0\n",
       "marital_status       0\n",
       "occupation        1510\n",
       "relationship         0\n",
       "race                 0\n",
       "sex                 85\n",
       "capital_gain         0\n",
       "capital-loss         0\n",
       "hours_per_week       0\n",
       "native_country     497\n",
       "Salary               0\n",
       "dtype: int64"
      ]
     },
     "execution_count": 19,
     "metadata": {},
     "output_type": "execute_result"
    }
   ],
   "source": [
    "# To check how many missing value/NA values are there in data\n",
    "df.isnull().sum()"
   ]
  },
  {
   "cell_type": "code",
   "execution_count": 20,
   "id": "ad000873",
   "metadata": {},
   "outputs": [
    {
     "data": {
      "text/plain": [
       "0    37.0\n",
       "Name: age, dtype: float64"
      ]
     },
     "execution_count": 20,
     "metadata": {},
     "output_type": "execute_result"
    }
   ],
   "source": [
    "# lets find the mode value of age to replace the null values\n",
    "df['age'].mode()"
   ]
  },
  {
   "cell_type": "code",
   "execution_count": 21,
   "id": "70941a18",
   "metadata": {},
   "outputs": [
    {
     "data": {
      "text/plain": [
       "0"
      ]
     },
     "execution_count": 21,
     "metadata": {},
     "output_type": "execute_result"
    }
   ],
   "source": [
    "# let's replace NaN by mode value\n",
    "df['age'].fillna(df['age'].mode()[0], inplace=True)\n",
    "df['age'].isnull().sum()"
   ]
  },
  {
   "cell_type": "code",
   "execution_count": 22,
   "id": "6e281fe0",
   "metadata": {},
   "outputs": [
    {
     "data": {
      "text/plain": [
       "0     Private\n",
       "Name: workclass, dtype: object"
      ]
     },
     "execution_count": 22,
     "metadata": {},
     "output_type": "execute_result"
    }
   ],
   "source": [
    "# lets find the mode value of workclass to replace the null values\n",
    "df['workclass'].mode()"
   ]
  },
  {
   "cell_type": "code",
   "execution_count": 23,
   "id": "698a11e1",
   "metadata": {},
   "outputs": [
    {
     "data": {
      "text/plain": [
       "0"
      ]
     },
     "execution_count": 23,
     "metadata": {},
     "output_type": "execute_result"
    }
   ],
   "source": [
    "# let's replace NaN by mode value\n",
    "df['workclass'].fillna(df['workclass'].mode()[0], inplace=True)\n",
    "df['workclass'].isnull().sum()"
   ]
  },
  {
   "cell_type": "code",
   "execution_count": 24,
   "id": "e0c518cb",
   "metadata": {},
   "outputs": [
    {
     "data": {
      "text/plain": [
       "0     Craft-repair\n",
       "Name: occupation, dtype: object"
      ]
     },
     "execution_count": 24,
     "metadata": {},
     "output_type": "execute_result"
    }
   ],
   "source": [
    "# let's find occupations where 'workclass' is ' Private'\n",
    "temp = df['occupation'][df['workclass'] == ' Private']\n",
    "temp.mode()"
   ]
  },
  {
   "cell_type": "code",
   "execution_count": 25,
   "id": "0d732526",
   "metadata": {},
   "outputs": [
    {
     "data": {
      "text/plain": [
       "0"
      ]
     },
     "execution_count": 25,
     "metadata": {},
     "output_type": "execute_result"
    }
   ],
   "source": [
    "# let's replace NaN by Craft-repair\n",
    "df['occupation'].fillna(' Craft-repair', inplace=True)\n",
    "df['occupation'].isnull().sum()"
   ]
  },
  {
   "cell_type": "code",
   "execution_count": 26,
   "id": "bcda5475",
   "metadata": {},
   "outputs": [
    {
     "data": {
      "text/plain": [
       "0     Male\n",
       "Name: sex, dtype: object"
      ]
     },
     "execution_count": 26,
     "metadata": {},
     "output_type": "execute_result"
    }
   ],
   "source": [
    "# lets find the mode value of sex to replace the null values\n",
    "df['sex'].mode()"
   ]
  },
  {
   "cell_type": "code",
   "execution_count": 27,
   "id": "f5bf9e00",
   "metadata": {},
   "outputs": [
    {
     "data": {
      "text/plain": [
       "0"
      ]
     },
     "execution_count": 27,
     "metadata": {},
     "output_type": "execute_result"
    }
   ],
   "source": [
    "# let's replace NaN by mode value\n",
    "df['sex'].fillna(df['sex'].mode()[0], inplace=True)\n",
    "df['sex'].isnull().sum()"
   ]
  },
  {
   "cell_type": "code",
   "execution_count": 28,
   "id": "7b5e54ee",
   "metadata": {},
   "outputs": [
    {
     "data": {
      "text/plain": [
       "0     United-States\n",
       "Name: native_country, dtype: object"
      ]
     },
     "execution_count": 28,
     "metadata": {},
     "output_type": "execute_result"
    }
   ],
   "source": [
    "# lets find the mode value of native_country to replace the null values\n",
    "df['native_country'].mode()"
   ]
  },
  {
   "cell_type": "code",
   "execution_count": 29,
   "id": "01c67583",
   "metadata": {},
   "outputs": [
    {
     "data": {
      "text/plain": [
       "0"
      ]
     },
     "execution_count": 29,
     "metadata": {},
     "output_type": "execute_result"
    }
   ],
   "source": [
    "# let's replace NaN by mode value\n",
    "df['native_country'].fillna(df['native_country'].mode()[0], inplace=True)\n",
    "df['native_country'].isnull().sum()"
   ]
  },
  {
   "cell_type": "code",
   "execution_count": 30,
   "id": "5314a666",
   "metadata": {},
   "outputs": [
    {
     "data": {
      "text/plain": [
       " Private             20873\n",
       " Self-emp-not-inc     2187\n",
       " Local-gov            1812\n",
       " State-gov            1120\n",
       " Self-emp-inc         1030\n",
       " Federal-gov           856\n",
       " Without-pay            10\n",
       " Never-worked            7\n",
       "Name: workclass, dtype: int64"
      ]
     },
     "execution_count": 30,
     "metadata": {},
     "output_type": "execute_result"
    }
   ],
   "source": [
    "# to make sure NaN values have been replaced \n",
    "df['workclass'].value_counts()"
   ]
  },
  {
   "cell_type": "code",
   "execution_count": 31,
   "id": "79648aaf",
   "metadata": {},
   "outputs": [
    {
     "data": {
      "text/plain": [
       " Craft-repair         4982\n",
       " Prof-specialty       3736\n",
       " Exec-managerial      3680\n",
       " Adm-clerical         3179\n",
       " Sales                3142\n",
       " Other-service        2712\n",
       " Machine-op-inspct    1662\n",
       " Transport-moving     1353\n",
       " Handlers-cleaners    1113\n",
       " Farming-fishing       839\n",
       " Tech-support          797\n",
       " Protective-serv       572\n",
       " Priv-house-serv       121\n",
       " Armed-Forces            7\n",
       "Name: occupation, dtype: int64"
      ]
     },
     "execution_count": 31,
     "metadata": {},
     "output_type": "execute_result"
    }
   ],
   "source": [
    "df['occupation'].value_counts()"
   ]
  },
  {
   "cell_type": "code",
   "execution_count": 32,
   "id": "e808663f",
   "metadata": {},
   "outputs": [
    {
     "data": {
      "text/plain": [
       " Male      18955\n",
       " Female     8940\n",
       "Name: sex, dtype: int64"
      ]
     },
     "execution_count": 32,
     "metadata": {},
     "output_type": "execute_result"
    }
   ],
   "source": [
    "df['sex'].value_counts()"
   ]
  },
  {
   "cell_type": "code",
   "execution_count": 33,
   "id": "60687e7a",
   "metadata": {},
   "outputs": [
    {
     "data": {
      "text/plain": [
       " United-States                 25521\n",
       " Mexico                          520\n",
       " Philippines                     181\n",
       " Germany                         119\n",
       " Canada                          106\n",
       " Puerto-Rico                      94\n",
       " El-Salvador                      85\n",
       " India                            82\n",
       " Cuba                             81\n",
       " England                          77\n",
       " South                            69\n",
       " Jamaica                          67\n",
       " Italy                            65\n",
       " China                            65\n",
       " Dominican-Republic               58\n",
       " Vietnam                          57\n",
       " Guatemala                        55\n",
       " Poland                           53\n",
       " Japan                            52\n",
       " Columbia                         52\n",
       " Taiwan                           48\n",
       " Iran                             41\n",
       " Haiti                            37\n",
       " Portugal                         29\n",
       " Nicaragua                        28\n",
       " Peru                             26\n",
       " France                           25\n",
       " Greece                           25\n",
       " Ireland                          22\n",
       " Ecuador                          22\n",
       " Cambodia                         19\n",
       " Hong                             17\n",
       " Thailand                         15\n",
       " Trinadad&Tobago                  14\n",
       " Yugoslavia                       13\n",
       " Laos                             13\n",
       " Hungary                          13\n",
       " Outlying-US(Guam-USVI-etc)       10\n",
       " Scotland                         10\n",
       " Honduras                          8\n",
       " Holand-Netherlands                1\n",
       "Name: native_country, dtype: int64"
      ]
     },
     "execution_count": 33,
     "metadata": {},
     "output_type": "execute_result"
    }
   ],
   "source": [
    "df['native_country'].value_counts()"
   ]
  },
  {
   "cell_type": "code",
   "execution_count": 34,
   "id": "a783665c",
   "metadata": {},
   "outputs": [
    {
     "data": {
      "text/plain": [
       "0"
      ]
     },
     "execution_count": 34,
     "metadata": {},
     "output_type": "execute_result"
    }
   ],
   "source": [
    "df.isnull().sum().sum()"
   ]
  },
  {
   "cell_type": "markdown",
   "id": "17dd4286",
   "metadata": {},
   "source": [
    "# Exploratory Analysis and Visualization"
   ]
  },
  {
   "cell_type": "code",
   "execution_count": 35,
   "id": "b8eca9bc",
   "metadata": {},
   "outputs": [
    {
     "data": {
      "text/plain": [
       "Index(['age', 'workclass', 'fnlwgt', 'education', 'education_num',\n",
       "       'marital_status', 'occupation', 'relationship', 'race', 'sex',\n",
       "       'capital_gain', 'capital-loss', 'hours_per_week', 'native_country',\n",
       "       'Salary'],\n",
       "      dtype='object')"
      ]
     },
     "execution_count": 35,
     "metadata": {},
     "output_type": "execute_result"
    }
   ],
   "source": [
    "df.columns"
   ]
  },
  {
   "cell_type": "code",
   "execution_count": 36,
   "id": "63f93439",
   "metadata": {},
   "outputs": [
    {
     "name": "stderr",
     "output_type": "stream",
     "text": [
      "C:\\Users\\yashs\\anaconda3\\lib\\site-packages\\seaborn\\_decorators.py:36: FutureWarning: Pass the following variable as a keyword arg: x. From version 0.12, the only valid positional argument will be `data`, and passing other arguments without an explicit keyword will result in an error or misinterpretation.\n",
      "  warnings.warn(\n"
     ]
    },
    {
     "data": {
      "text/plain": [
       "Text(0.5, 1.0, 'Salary Distribution')"
      ]
     },
     "execution_count": 36,
     "metadata": {},
     "output_type": "execute_result"
    },
    {
     "data": {
      "image/png": "[encoded data removed]",
      "text/plain": [
       "<Figure size 432x288 with 1 Axes>"
      ]
     },
     "metadata": {
      "needs_background": "light"
     },
     "output_type": "display_data"
    }
   ],
   "source": [
    "# How the target variable is distributed\n",
    "ax = sns.countplot(df['Salary'], hue=df['sex'])\n",
    "ax.set_title('Salary Distribution')"
   ]
  },
  {
   "cell_type": "code",
   "execution_count": 37,
   "id": "8e9aa3c4",
   "metadata": {},
   "outputs": [],
   "source": [
    "def draw_boxen_plot(feature, hue=None):\n",
    "    fig = plt.figure(figsize=(6, 5))\n",
    "    ax = fig.gca()\n",
    "    sns.boxenplot(data=df, x='Salary', y=feature, ax=ax, hue=hue)\n",
    "    sns.set_style('whitegrid')\n",
    "    ax.set_title('Salary VS '+feature.title())"
   ]
  },
  {
   "cell_type": "code",
   "execution_count": 38,
   "id": "8b574d14",
   "metadata": {},
   "outputs": [
    {
     "data": {
      "image/png": "[encoded data removed]",
      "text/plain": [
       "<Figure size 432x360 with 1 Axes>"
      ]
     },
     "metadata": {
      "needs_background": "light"
     },
     "output_type": "display_data"
    }
   ],
   "source": [
    "# Salary VS Age\n",
    "draw_boxen_plot('age', 'sex')"
   ]
  },
  {
   "cell_type": "code",
   "execution_count": 39,
   "id": "13edd558",
   "metadata": {},
   "outputs": [
    {
     "data": {
      "image/png": "[encoded data removed]",
      "text/plain": [
       "<Figure size 432x360 with 1 Axes>"
      ]
     },
     "metadata": {},
     "output_type": "display_data"
    }
   ],
   "source": [
    "# hours_ per_week VS Salary\n",
    "draw_boxen_plot('hours_per_week')"
   ]
  },
  {
   "cell_type": "code",
   "execution_count": 40,
   "id": "2fc8641b",
   "metadata": {},
   "outputs": [
    {
     "data": {
      "text/plain": [
       "Text(0.5, 1.0, 'Sex VS Salary')"
      ]
     },
     "execution_count": 40,
     "metadata": {},
     "output_type": "execute_result"
    },
    {
     "data": {
      "image/png": "[encoded data removed]",
      "text/plain": [
       "<Figure size 720x432 with 1 Axes>"
      ]
     },
     "metadata": {},
     "output_type": "display_data"
    }
   ],
   "source": [
    "# Sex VS Salary\n",
    "fig = plt.figure(figsize=(10, 6))\n",
    "ax = sns.countplot(data=df,x='Salary', hue='sex')\n",
    "ax.set_title('Sex VS Salary')"
   ]
  },
  {
   "cell_type": "code",
   "execution_count": 41,
   "id": "a768d9cd",
   "metadata": {},
   "outputs": [
    {
     "data": {
      "text/plain": [
       "Text(0.5, 1.0, 'Workclass VS Salary')"
      ]
     },
     "execution_count": 41,
     "metadata": {},
     "output_type": "execute_result"
    },
    {
     "data": {
      "image/png": "[encoded data removed]",
      "text/plain": [
       "<Figure size 720x432 with 1 Axes>"
      ]
     },
     "metadata": {},
     "output_type": "display_data"
    }
   ],
   "source": [
    "fig = plt.figure(figsize=(10, 6))\n",
    "ax = sns.countplot(data=df,y='workclass', hue='Salary')\n",
    "ax.set_title('Workclass VS Salary')"
   ]
  },
  {
   "cell_type": "code",
   "execution_count": 42,
   "id": "43de3241",
   "metadata": {},
   "outputs": [
    {
     "data": {
      "image/png": "[encoded data removed]",
      "text/plain": [
       "<Figure size 432x360 with 1 Axes>"
      ]
     },
     "metadata": {},
     "output_type": "display_data"
    }
   ],
   "source": [
    "draw_boxen_plot('fnlwgt', 'sex')"
   ]
  },
  {
   "cell_type": "code",
   "execution_count": 43,
   "id": "5870a7cf",
   "metadata": {},
   "outputs": [
    {
     "data": {
      "text/plain": [
       "Text(0.5, 1.0, 'Education VS Salary')"
      ]
     },
     "execution_count": 43,
     "metadata": {},
     "output_type": "execute_result"
    },
    {
     "data": {
      "image/png": "[encoded data removed]",
      "text/plain": [
       "<Figure size 1080x576 with 1 Axes>"
      ]
     },
     "metadata": {},
     "output_type": "display_data"
    }
   ],
   "source": [
    "plt.figure(figsize=(15, 8))\n",
    "ax = sns.countplot(data=df,y='education', hue='Salary')\n",
    "ax.set_title('Education VS Salary')"
   ]
  },
  {
   "cell_type": "code",
   "execution_count": 44,
   "id": "851f237f",
   "metadata": {},
   "outputs": [
    {
     "data": {
      "text/plain": [
       "Text(0.5, 1.0, 'Race VS Salary')"
      ]
     },
     "execution_count": 44,
     "metadata": {},
     "output_type": "execute_result"
    },
    {
     "data": {
      "image/png": "[encoded data removed]",
      "text/plain": [
       "<Figure size 1080x576 with 1 Axes>"
      ]
     },
     "metadata": {},
     "output_type": "display_data"
    }
   ],
   "source": [
    "plt.figure(figsize=(15, 8))\n",
    "ax = sns.countplot(data=df,y='race', hue='Salary')\n",
    "sns.set_palette('Accent_r')\n",
    "ax.set_title('Race VS Salary')"
   ]
  },
  {
   "cell_type": "code",
   "execution_count": 45,
   "id": "7dd4ce7a",
   "metadata": {},
   "outputs": [
    {
     "data": {
      "text/html": [
       "<div>\n",
       "<style scoped>\n",
       "    .dataframe tbody tr th:only-of-type {\n",
       "        vertical-align: middle;\n",
       "    }\n",
       "\n",
       "    .dataframe tbody tr th {\n",
       "        vertical-align: top;\n",
       "    }\n",
       "\n",
       "    .dataframe thead th {\n",
       "        text-align: right;\n",
       "    }\n",
       "</style>\n",
       "<table border=\"1\" class=\"dataframe\">\n",
       "  <thead>\n",
       "    <tr style=\"text-align: right;\">\n",
       "      <th></th>\n",
       "      <th>age</th>\n",
       "      <th>fnlwgt</th>\n",
       "      <th>education_num</th>\n",
       "      <th>capital_gain</th>\n",
       "      <th>capital-loss</th>\n",
       "      <th>hours_per_week</th>\n",
       "    </tr>\n",
       "  </thead>\n",
       "  <tbody>\n",
       "    <tr>\n",
       "      <th>age</th>\n",
       "      <td>1.000000</td>\n",
       "      <td>-0.075395</td>\n",
       "      <td>0.047876</td>\n",
       "      <td>0.080091</td>\n",
       "      <td>0.061187</td>\n",
       "      <td>0.070323</td>\n",
       "    </tr>\n",
       "    <tr>\n",
       "      <th>fnlwgt</th>\n",
       "      <td>-0.075395</td>\n",
       "      <td>1.000000</td>\n",
       "      <td>-0.038551</td>\n",
       "      <td>0.000388</td>\n",
       "      <td>-0.009614</td>\n",
       "      <td>-0.015427</td>\n",
       "    </tr>\n",
       "    <tr>\n",
       "      <th>education_num</th>\n",
       "      <td>0.047876</td>\n",
       "      <td>-0.038551</td>\n",
       "      <td>1.000000</td>\n",
       "      <td>0.127927</td>\n",
       "      <td>0.087730</td>\n",
       "      <td>0.152933</td>\n",
       "    </tr>\n",
       "    <tr>\n",
       "      <th>capital_gain</th>\n",
       "      <td>0.080091</td>\n",
       "      <td>0.000388</td>\n",
       "      <td>0.127927</td>\n",
       "      <td>1.000000</td>\n",
       "      <td>-0.034515</td>\n",
       "      <td>0.081465</td>\n",
       "    </tr>\n",
       "    <tr>\n",
       "      <th>capital-loss</th>\n",
       "      <td>0.061187</td>\n",
       "      <td>-0.009614</td>\n",
       "      <td>0.087730</td>\n",
       "      <td>-0.034515</td>\n",
       "      <td>1.000000</td>\n",
       "      <td>0.057471</td>\n",
       "    </tr>\n",
       "    <tr>\n",
       "      <th>hours_per_week</th>\n",
       "      <td>0.070323</td>\n",
       "      <td>-0.015427</td>\n",
       "      <td>0.152933</td>\n",
       "      <td>0.081465</td>\n",
       "      <td>0.057471</td>\n",
       "      <td>1.000000</td>\n",
       "    </tr>\n",
       "  </tbody>\n",
       "</table>\n",
       "</div>"
      ],
      "text/plain": [
       "                     age    fnlwgt  education_num  capital_gain  capital-loss  \\\n",
       "age             1.000000 -0.075395       0.047876      0.080091      0.061187   \n",
       "fnlwgt         -0.075395  1.000000      -0.038551      0.000388     -0.009614   \n",
       "education_num   0.047876 -0.038551       1.000000      0.127927      0.087730   \n",
       "capital_gain    0.080091  0.000388       0.127927      1.000000     -0.034515   \n",
       "capital-loss    0.061187 -0.009614       0.087730     -0.034515      1.000000   \n",
       "hours_per_week  0.070323 -0.015427       0.152933      0.081465      0.057471   \n",
       "\n",
       "                hours_per_week  \n",
       "age                   0.070323  \n",
       "fnlwgt               -0.015427  \n",
       "education_num         0.152933  \n",
       "capital_gain          0.081465  \n",
       "capital-loss          0.057471  \n",
       "hours_per_week        1.000000  "
      ]
     },
     "execution_count": 45,
     "metadata": {},
     "output_type": "execute_result"
    }
   ],
   "source": [
    "df.corr()"
   ]
  },
  {
   "cell_type": "code",
   "execution_count": 46,
   "id": "abc50638",
   "metadata": {},
   "outputs": [
    {
     "data": {
      "text/plain": [
       "<AxesSubplot:>"
      ]
     },
     "execution_count": 46,
     "metadata": {},
     "output_type": "execute_result"
    },
    {
     "data": {
      "image/png": "[encoded data removed]",
      "text/plain": [
       "<Figure size 720x432 with 2 Axes>"
      ]
     },
     "metadata": {},
     "output_type": "display_data"
    }
   ],
   "source": [
    "plt.figure(figsize=(10, 6))\n",
    "sns.heatmap(df.corr(), annot=True, cmap='autumn_r')"
   ]
  },
  {
   "cell_type": "code",
   "execution_count": 47,
   "id": "4a1d8312",
   "metadata": {},
   "outputs": [],
   "source": [
    "# Now, let's do some EDA (Exploratory Data Analysis) and gain some useful info using pd.crosstab method.\n",
    "def crosstab_counts(feature, normalize=False):\n",
    "    return pd.crosstab(\n",
    "        index=df[feature],\n",
    "        columns='Counts(%)',\n",
    "        normalize=normalize\n",
    "    ).apply(lambda x: round(x*100, 4)).sort_values(by='Counts(%)', ascending=False)"
   ]
  },
  {
   "cell_type": "code",
   "execution_count": 48,
   "id": "6ff2176a",
   "metadata": {},
   "outputs": [
    {
     "data": {
      "text/html": [
       "<div>\n",
       "<style scoped>\n",
       "    .dataframe tbody tr th:only-of-type {\n",
       "        vertical-align: middle;\n",
       "    }\n",
       "\n",
       "    .dataframe tbody tr th {\n",
       "        vertical-align: top;\n",
       "    }\n",
       "\n",
       "    .dataframe thead th {\n",
       "        text-align: right;\n",
       "    }\n",
       "</style>\n",
       "<table border=\"1\" class=\"dataframe\">\n",
       "  <thead>\n",
       "    <tr style=\"text-align: right;\">\n",
       "      <th>Salary</th>\n",
       "      <th>&lt;=50K</th>\n",
       "      <th>&gt;50K</th>\n",
       "    </tr>\n",
       "    <tr>\n",
       "      <th>col_0</th>\n",
       "      <th></th>\n",
       "      <th></th>\n",
       "    </tr>\n",
       "  </thead>\n",
       "  <tbody>\n",
       "    <tr>\n",
       "      <th>Counts(%)</th>\n",
       "      <td>71.891</td>\n",
       "      <td>28.109</td>\n",
       "    </tr>\n",
       "  </tbody>\n",
       "</table>\n",
       "</div>"
      ],
      "text/plain": [
       "Salary      <=50K    >50K\n",
       "col_0                    \n",
       "Counts(%)  71.891  28.109"
      ]
     },
     "execution_count": 48,
     "metadata": {},
     "output_type": "execute_result"
    }
   ],
   "source": [
    "crosstab_counts('Salary', True).T"
   ]
  },
  {
   "cell_type": "code",
   "execution_count": 49,
   "id": "e18691ba",
   "metadata": {},
   "outputs": [
    {
     "data": {
      "text/html": [
       "<div>\n",
       "<style scoped>\n",
       "    .dataframe tbody tr th:only-of-type {\n",
       "        vertical-align: middle;\n",
       "    }\n",
       "\n",
       "    .dataframe tbody tr th {\n",
       "        vertical-align: top;\n",
       "    }\n",
       "\n",
       "    .dataframe thead th {\n",
       "        text-align: right;\n",
       "    }\n",
       "</style>\n",
       "<table border=\"1\" class=\"dataframe\">\n",
       "  <thead>\n",
       "    <tr style=\"text-align: right;\">\n",
       "      <th>sex</th>\n",
       "      <th>Male</th>\n",
       "      <th>Female</th>\n",
       "    </tr>\n",
       "    <tr>\n",
       "      <th>col_0</th>\n",
       "      <th></th>\n",
       "      <th></th>\n",
       "    </tr>\n",
       "  </thead>\n",
       "  <tbody>\n",
       "    <tr>\n",
       "      <th>Counts(%)</th>\n",
       "      <td>67.9512</td>\n",
       "      <td>32.0488</td>\n",
       "    </tr>\n",
       "  </tbody>\n",
       "</table>\n",
       "</div>"
      ],
      "text/plain": [
       "sex           Male   Female\n",
       "col_0                      \n",
       "Counts(%)  67.9512  32.0488"
      ]
     },
     "execution_count": 49,
     "metadata": {},
     "output_type": "execute_result"
    }
   ],
   "source": [
    "crosstab_counts('sex', True).T"
   ]
  },
  {
   "cell_type": "code",
   "execution_count": 50,
   "id": "b5d9ab20",
   "metadata": {},
   "outputs": [
    {
     "data": {
      "text/html": [
       "<div>\n",
       "<style scoped>\n",
       "    .dataframe tbody tr th:only-of-type {\n",
       "        vertical-align: middle;\n",
       "    }\n",
       "\n",
       "    .dataframe tbody tr th {\n",
       "        vertical-align: top;\n",
       "    }\n",
       "\n",
       "    .dataframe thead th {\n",
       "        text-align: right;\n",
       "    }\n",
       "</style>\n",
       "<table border=\"1\" class=\"dataframe\">\n",
       "  <thead>\n",
       "    <tr style=\"text-align: right;\">\n",
       "      <th>workclass</th>\n",
       "      <th>Private</th>\n",
       "      <th>Self-emp-not-inc</th>\n",
       "      <th>Local-gov</th>\n",
       "      <th>State-gov</th>\n",
       "      <th>Self-emp-inc</th>\n",
       "      <th>Federal-gov</th>\n",
       "      <th>Without-pay</th>\n",
       "      <th>Never-worked</th>\n",
       "    </tr>\n",
       "    <tr>\n",
       "      <th>col_0</th>\n",
       "      <th></th>\n",
       "      <th></th>\n",
       "      <th></th>\n",
       "      <th></th>\n",
       "      <th></th>\n",
       "      <th></th>\n",
       "      <th></th>\n",
       "      <th></th>\n",
       "    </tr>\n",
       "  </thead>\n",
       "  <tbody>\n",
       "    <tr>\n",
       "      <th>Counts(%)</th>\n",
       "      <td>74.827</td>\n",
       "      <td>7.8401</td>\n",
       "      <td>6.4958</td>\n",
       "      <td>4.0151</td>\n",
       "      <td>3.6924</td>\n",
       "      <td>3.0687</td>\n",
       "      <td>0.0358</td>\n",
       "      <td>0.0251</td>\n",
       "    </tr>\n",
       "  </tbody>\n",
       "</table>\n",
       "</div>"
      ],
      "text/plain": [
       "workclass   Private   Self-emp-not-inc   Local-gov   State-gov   Self-emp-inc  \\\n",
       "col_0                                                                           \n",
       "Counts(%)    74.827             7.8401      6.4958      4.0151         3.6924   \n",
       "\n",
       "workclass   Federal-gov   Without-pay   Never-worked  \n",
       "col_0                                                 \n",
       "Counts(%)        3.0687        0.0358         0.0251  "
      ]
     },
     "execution_count": 50,
     "metadata": {},
     "output_type": "execute_result"
    }
   ],
   "source": [
    "# workclass counts\n",
    "crosstab_counts('workclass', True).T"
   ]
  },
  {
   "cell_type": "code",
   "execution_count": 51,
   "id": "7eb3277d",
   "metadata": {},
   "outputs": [
    {
     "data": {
      "text/html": [
       "<div>\n",
       "<style scoped>\n",
       "    .dataframe tbody tr th:only-of-type {\n",
       "        vertical-align: middle;\n",
       "    }\n",
       "\n",
       "    .dataframe tbody tr th {\n",
       "        vertical-align: top;\n",
       "    }\n",
       "\n",
       "    .dataframe thead th {\n",
       "        text-align: right;\n",
       "    }\n",
       "</style>\n",
       "<table border=\"1\" class=\"dataframe\">\n",
       "  <thead>\n",
       "    <tr style=\"text-align: right;\">\n",
       "      <th>col_0</th>\n",
       "      <th>Counts(%)</th>\n",
       "    </tr>\n",
       "    <tr>\n",
       "      <th>education</th>\n",
       "      <th></th>\n",
       "    </tr>\n",
       "  </thead>\n",
       "  <tbody>\n",
       "    <tr>\n",
       "      <th>HS-grad</th>\n",
       "      <td>31.7512</td>\n",
       "    </tr>\n",
       "    <tr>\n",
       "      <th>Some-college</th>\n",
       "      <td>22.1581</td>\n",
       "    </tr>\n",
       "    <tr>\n",
       "      <th>Bachelors</th>\n",
       "      <td>17.0640</td>\n",
       "    </tr>\n",
       "    <tr>\n",
       "      <th>Masters</th>\n",
       "      <td>5.6139</td>\n",
       "    </tr>\n",
       "    <tr>\n",
       "      <th>Assoc-voc</th>\n",
       "      <td>4.2337</td>\n",
       "    </tr>\n",
       "    <tr>\n",
       "      <th>11th</th>\n",
       "      <td>3.4020</td>\n",
       "    </tr>\n",
       "    <tr>\n",
       "      <th>Assoc-acdm</th>\n",
       "      <td>3.2981</td>\n",
       "    </tr>\n",
       "    <tr>\n",
       "      <th>10th</th>\n",
       "      <td>2.7604</td>\n",
       "    </tr>\n",
       "    <tr>\n",
       "      <th>Prof-school</th>\n",
       "      <td>1.9573</td>\n",
       "    </tr>\n",
       "    <tr>\n",
       "      <th>7th-8th</th>\n",
       "      <td>1.8892</td>\n",
       "    </tr>\n",
       "    <tr>\n",
       "      <th>9th</th>\n",
       "      <td>1.5415</td>\n",
       "    </tr>\n",
       "    <tr>\n",
       "      <th>Doctorate</th>\n",
       "      <td>1.4232</td>\n",
       "    </tr>\n",
       "    <tr>\n",
       "      <th>12th</th>\n",
       "      <td>1.3443</td>\n",
       "    </tr>\n",
       "    <tr>\n",
       "      <th>5th-6th</th>\n",
       "      <td>0.9392</td>\n",
       "    </tr>\n",
       "    <tr>\n",
       "      <th>1st-4th</th>\n",
       "      <td>0.4660</td>\n",
       "    </tr>\n",
       "    <tr>\n",
       "      <th>Preschool</th>\n",
       "      <td>0.1577</td>\n",
       "    </tr>\n",
       "  </tbody>\n",
       "</table>\n",
       "</div>"
      ],
      "text/plain": [
       "col_0          Counts(%)\n",
       "education               \n",
       " HS-grad         31.7512\n",
       " Some-college    22.1581\n",
       " Bachelors       17.0640\n",
       " Masters          5.6139\n",
       " Assoc-voc        4.2337\n",
       " 11th             3.4020\n",
       " Assoc-acdm       3.2981\n",
       " 10th             2.7604\n",
       " Prof-school      1.9573\n",
       " 7th-8th          1.8892\n",
       " 9th              1.5415\n",
       " Doctorate        1.4232\n",
       " 12th             1.3443\n",
       " 5th-6th          0.9392\n",
       " 1st-4th          0.4660\n",
       " Preschool        0.1577"
      ]
     },
     "execution_count": 51,
     "metadata": {},
     "output_type": "execute_result"
    }
   ],
   "source": [
    "# education counts\n",
    "crosstab_counts('education', True)"
   ]
  },
  {
   "cell_type": "code",
   "execution_count": 52,
   "id": "f35e4e3e",
   "metadata": {},
   "outputs": [
    {
     "data": {
      "text/html": [
       "<div>\n",
       "<style scoped>\n",
       "    .dataframe tbody tr th:only-of-type {\n",
       "        vertical-align: middle;\n",
       "    }\n",
       "\n",
       "    .dataframe tbody tr th {\n",
       "        vertical-align: top;\n",
       "    }\n",
       "\n",
       "    .dataframe thead th {\n",
       "        text-align: right;\n",
       "    }\n",
       "</style>\n",
       "<table border=\"1\" class=\"dataframe\">\n",
       "  <thead>\n",
       "    <tr style=\"text-align: right;\">\n",
       "      <th>marital_status</th>\n",
       "      <th>Married-civ-spouse</th>\n",
       "      <th>Never-married</th>\n",
       "      <th>Divorced</th>\n",
       "      <th>Separated</th>\n",
       "      <th>Widowed</th>\n",
       "      <th>Married-spouse-absent</th>\n",
       "      <th>Married-AF-spouse</th>\n",
       "    </tr>\n",
       "    <tr>\n",
       "      <th>col_0</th>\n",
       "      <th></th>\n",
       "      <th></th>\n",
       "      <th></th>\n",
       "      <th></th>\n",
       "      <th></th>\n",
       "      <th></th>\n",
       "      <th></th>\n",
       "    </tr>\n",
       "  </thead>\n",
       "  <tbody>\n",
       "    <tr>\n",
       "      <th>Counts(%)</th>\n",
       "      <td>48.1197</td>\n",
       "      <td>31.3103</td>\n",
       "      <td>13.2891</td>\n",
       "      <td>3.04</td>\n",
       "      <td>2.9288</td>\n",
       "      <td>1.244</td>\n",
       "      <td>0.0681</td>\n",
       "    </tr>\n",
       "  </tbody>\n",
       "</table>\n",
       "</div>"
      ],
      "text/plain": [
       "marital_status   Married-civ-spouse   Never-married   Divorced   Separated  \\\n",
       "col_0                                                                        \n",
       "Counts(%)                   48.1197         31.3103    13.2891        3.04   \n",
       "\n",
       "marital_status   Widowed   Married-spouse-absent   Married-AF-spouse  \n",
       "col_0                                                                 \n",
       "Counts(%)         2.9288                   1.244              0.0681  "
      ]
     },
     "execution_count": 52,
     "metadata": {},
     "output_type": "execute_result"
    }
   ],
   "source": [
    "# marital-status counts\n",
    "crosstab_counts('marital_status', True).T"
   ]
  },
  {
   "cell_type": "code",
   "execution_count": 53,
   "id": "a3ddbed3",
   "metadata": {},
   "outputs": [
    {
     "data": {
      "text/html": [
       "<div>\n",
       "<style scoped>\n",
       "    .dataframe tbody tr th:only-of-type {\n",
       "        vertical-align: middle;\n",
       "    }\n",
       "\n",
       "    .dataframe tbody tr th {\n",
       "        vertical-align: top;\n",
       "    }\n",
       "\n",
       "    .dataframe thead th {\n",
       "        text-align: right;\n",
       "    }\n",
       "</style>\n",
       "<table border=\"1\" class=\"dataframe\">\n",
       "  <thead>\n",
       "    <tr style=\"text-align: right;\">\n",
       "      <th>relationship</th>\n",
       "      <th>Husband</th>\n",
       "      <th>Not-in-family</th>\n",
       "      <th>Own-child</th>\n",
       "      <th>Unmarried</th>\n",
       "      <th>Wife</th>\n",
       "      <th>Other-relative</th>\n",
       "    </tr>\n",
       "    <tr>\n",
       "      <th>col_0</th>\n",
       "      <th></th>\n",
       "      <th></th>\n",
       "      <th></th>\n",
       "      <th></th>\n",
       "      <th></th>\n",
       "      <th></th>\n",
       "    </tr>\n",
       "  </thead>\n",
       "  <tbody>\n",
       "    <tr>\n",
       "      <th>Counts(%)</th>\n",
       "      <td>42.3553</td>\n",
       "      <td>24.6424</td>\n",
       "      <td>14.8808</td>\n",
       "      <td>10.1882</td>\n",
       "      <td>5.0798</td>\n",
       "      <td>2.8536</td>\n",
       "    </tr>\n",
       "  </tbody>\n",
       "</table>\n",
       "</div>"
      ],
      "text/plain": [
       "relationship   Husband   Not-in-family   Own-child   Unmarried    Wife  \\\n",
       "col_0                                                                    \n",
       "Counts(%)      42.3553         24.6424     14.8808     10.1882  5.0798   \n",
       "\n",
       "relationship   Other-relative  \n",
       "col_0                          \n",
       "Counts(%)              2.8536  "
      ]
     },
     "execution_count": 53,
     "metadata": {},
     "output_type": "execute_result"
    }
   ],
   "source": [
    "# relationship count\n",
    "crosstab_counts('relationship', True).T"
   ]
  },
  {
   "cell_type": "code",
   "execution_count": 54,
   "id": "1840d603",
   "metadata": {},
   "outputs": [
    {
     "data": {
      "text/html": [
       "<div>\n",
       "<style scoped>\n",
       "    .dataframe tbody tr th:only-of-type {\n",
       "        vertical-align: middle;\n",
       "    }\n",
       "\n",
       "    .dataframe tbody tr th {\n",
       "        vertical-align: top;\n",
       "    }\n",
       "\n",
       "    .dataframe thead th {\n",
       "        text-align: right;\n",
       "    }\n",
       "</style>\n",
       "<table border=\"1\" class=\"dataframe\">\n",
       "  <thead>\n",
       "    <tr style=\"text-align: right;\">\n",
       "      <th>race</th>\n",
       "      <th>White</th>\n",
       "      <th>Black</th>\n",
       "      <th>Asian-Pac-Islander</th>\n",
       "      <th>Amer-Indian-Eskimo</th>\n",
       "      <th>Other</th>\n",
       "    </tr>\n",
       "    <tr>\n",
       "      <th>col_0</th>\n",
       "      <th></th>\n",
       "      <th></th>\n",
       "      <th></th>\n",
       "      <th></th>\n",
       "      <th></th>\n",
       "    </tr>\n",
       "  </thead>\n",
       "  <tbody>\n",
       "    <tr>\n",
       "      <th>Counts(%)</th>\n",
       "      <td>85.8756</td>\n",
       "      <td>9.1665</td>\n",
       "      <td>3.187</td>\n",
       "      <td>0.9285</td>\n",
       "      <td>0.8424</td>\n",
       "    </tr>\n",
       "  </tbody>\n",
       "</table>\n",
       "</div>"
      ],
      "text/plain": [
       "race         White   Black   Asian-Pac-Islander   Amer-Indian-Eskimo   Other\n",
       "col_0                                                                       \n",
       "Counts(%)  85.8756  9.1665                3.187               0.9285  0.8424"
      ]
     },
     "execution_count": 54,
     "metadata": {},
     "output_type": "execute_result"
    }
   ],
   "source": [
    "crosstab_counts('race', True).T"
   ]
  },
  {
   "cell_type": "code",
   "execution_count": 55,
   "id": "c9c1efc7",
   "metadata": {},
   "outputs": [
    {
     "data": {
      "text/html": [
       "<div>\n",
       "<style scoped>\n",
       "    .dataframe tbody tr th:only-of-type {\n",
       "        vertical-align: middle;\n",
       "    }\n",
       "\n",
       "    .dataframe tbody tr th {\n",
       "        vertical-align: top;\n",
       "    }\n",
       "\n",
       "    .dataframe thead th {\n",
       "        text-align: right;\n",
       "    }\n",
       "</style>\n",
       "<table border=\"1\" class=\"dataframe\">\n",
       "  <thead>\n",
       "    <tr style=\"text-align: right;\">\n",
       "      <th>sex</th>\n",
       "      <th>Female</th>\n",
       "      <th>Male</th>\n",
       "      <th>All</th>\n",
       "    </tr>\n",
       "    <tr>\n",
       "      <th>Salary</th>\n",
       "      <th></th>\n",
       "      <th></th>\n",
       "      <th></th>\n",
       "    </tr>\n",
       "  </thead>\n",
       "  <tbody>\n",
       "    <tr>\n",
       "      <th>&lt;=50K</th>\n",
       "      <td>0.278294</td>\n",
       "      <td>0.440617</td>\n",
       "      <td>0.71891</td>\n",
       "    </tr>\n",
       "    <tr>\n",
       "      <th>&gt;50K</th>\n",
       "      <td>0.042194</td>\n",
       "      <td>0.238896</td>\n",
       "      <td>0.28109</td>\n",
       "    </tr>\n",
       "    <tr>\n",
       "      <th>All</th>\n",
       "      <td>0.320488</td>\n",
       "      <td>0.679512</td>\n",
       "      <td>1.00000</td>\n",
       "    </tr>\n",
       "  </tbody>\n",
       "</table>\n",
       "</div>"
      ],
      "text/plain": [
       "sex       Female      Male      All\n",
       "Salary                             \n",
       " <=50K  0.278294  0.440617  0.71891\n",
       " >50K   0.042194  0.238896  0.28109\n",
       "All     0.320488  0.679512  1.00000"
      ]
     },
     "execution_count": 55,
     "metadata": {},
     "output_type": "execute_result"
    }
   ],
   "source": [
    "# Sex vs salary\n",
    "pd.crosstab(\n",
    "    index=df['Salary'],\n",
    "    columns=df['sex'],\n",
    "    margins=True,\n",
    "    normalize=True)"
   ]
  },
  {
   "cell_type": "code",
   "execution_count": 56,
   "id": "f70770e1",
   "metadata": {},
   "outputs": [
    {
     "data": {
      "text/html": [
       "<div>\n",
       "<style scoped>\n",
       "    .dataframe tbody tr th:only-of-type {\n",
       "        vertical-align: middle;\n",
       "    }\n",
       "\n",
       "    .dataframe tbody tr th {\n",
       "        vertical-align: top;\n",
       "    }\n",
       "\n",
       "    .dataframe thead th {\n",
       "        text-align: right;\n",
       "    }\n",
       "</style>\n",
       "<table border=\"1\" class=\"dataframe\">\n",
       "  <thead>\n",
       "    <tr style=\"text-align: right;\">\n",
       "      <th>race</th>\n",
       "      <th>Amer-Indian-Eskimo</th>\n",
       "      <th>Asian-Pac-Islander</th>\n",
       "      <th>Black</th>\n",
       "      <th>Other</th>\n",
       "      <th>White</th>\n",
       "      <th>All</th>\n",
       "    </tr>\n",
       "    <tr>\n",
       "      <th>Salary</th>\n",
       "      <th></th>\n",
       "      <th></th>\n",
       "      <th></th>\n",
       "      <th></th>\n",
       "      <th></th>\n",
       "      <th></th>\n",
       "    </tr>\n",
       "  </thead>\n",
       "  <tbody>\n",
       "    <tr>\n",
       "      <th>&lt;=50K</th>\n",
       "      <td>0.007994</td>\n",
       "      <td>0.021975</td>\n",
       "      <td>0.077792</td>\n",
       "      <td>0.007528</td>\n",
       "      <td>0.603621</td>\n",
       "      <td>0.71891</td>\n",
       "    </tr>\n",
       "    <tr>\n",
       "      <th>&gt;50K</th>\n",
       "      <td>0.001291</td>\n",
       "      <td>0.009894</td>\n",
       "      <td>0.013873</td>\n",
       "      <td>0.000896</td>\n",
       "      <td>0.255135</td>\n",
       "      <td>0.28109</td>\n",
       "    </tr>\n",
       "    <tr>\n",
       "      <th>All</th>\n",
       "      <td>0.009285</td>\n",
       "      <td>0.031870</td>\n",
       "      <td>0.091665</td>\n",
       "      <td>0.008424</td>\n",
       "      <td>0.858756</td>\n",
       "      <td>1.00000</td>\n",
       "    </tr>\n",
       "  </tbody>\n",
       "</table>\n",
       "</div>"
      ],
      "text/plain": [
       "race     Amer-Indian-Eskimo   Asian-Pac-Islander     Black     Other  \\\n",
       "Salary                                                                 \n",
       " <=50K             0.007994             0.021975  0.077792  0.007528   \n",
       " >50K              0.001291             0.009894  0.013873  0.000896   \n",
       "All                0.009285             0.031870  0.091665  0.008424   \n",
       "\n",
       "race       White      All  \n",
       "Salary                     \n",
       " <=50K  0.603621  0.71891  \n",
       " >50K   0.255135  0.28109  \n",
       "All     0.858756  1.00000  "
      ]
     },
     "execution_count": 56,
     "metadata": {},
     "output_type": "execute_result"
    }
   ],
   "source": [
    "# Race vs salary\n",
    "pd.crosstab(\n",
    "    index=df['Salary'],\n",
    "    columns=df['race'],\n",
    "    margins=True,\n",
    "    normalize=True)"
   ]
  },
  {
   "cell_type": "code",
   "execution_count": 57,
   "id": "23454133",
   "metadata": {},
   "outputs": [
    {
     "data": {
      "text/html": [
       "<div>\n",
       "<style scoped>\n",
       "    .dataframe tbody tr th:only-of-type {\n",
       "        vertical-align: middle;\n",
       "    }\n",
       "\n",
       "    .dataframe tbody tr th {\n",
       "        vertical-align: top;\n",
       "    }\n",
       "\n",
       "    .dataframe thead th {\n",
       "        text-align: right;\n",
       "    }\n",
       "</style>\n",
       "<table border=\"1\" class=\"dataframe\">\n",
       "  <thead>\n",
       "    <tr style=\"text-align: right;\">\n",
       "      <th>relationship</th>\n",
       "      <th>Husband</th>\n",
       "      <th>Not-in-family</th>\n",
       "      <th>Other-relative</th>\n",
       "      <th>Own-child</th>\n",
       "      <th>Unmarried</th>\n",
       "      <th>Wife</th>\n",
       "      <th>All</th>\n",
       "    </tr>\n",
       "    <tr>\n",
       "      <th>Salary</th>\n",
       "      <th></th>\n",
       "      <th></th>\n",
       "      <th></th>\n",
       "      <th></th>\n",
       "      <th></th>\n",
       "      <th></th>\n",
       "      <th></th>\n",
       "    </tr>\n",
       "  </thead>\n",
       "  <tbody>\n",
       "    <tr>\n",
       "      <th>&lt;=50K</th>\n",
       "      <td>0.211400</td>\n",
       "      <td>0.215738</td>\n",
       "      <td>0.027209</td>\n",
       "      <td>0.146406</td>\n",
       "      <td>0.094067</td>\n",
       "      <td>0.024090</td>\n",
       "      <td>0.71891</td>\n",
       "    </tr>\n",
       "    <tr>\n",
       "      <th>&gt;50K</th>\n",
       "      <td>0.212153</td>\n",
       "      <td>0.030687</td>\n",
       "      <td>0.001326</td>\n",
       "      <td>0.002402</td>\n",
       "      <td>0.007815</td>\n",
       "      <td>0.026707</td>\n",
       "      <td>0.28109</td>\n",
       "    </tr>\n",
       "    <tr>\n",
       "      <th>All</th>\n",
       "      <td>0.423553</td>\n",
       "      <td>0.246424</td>\n",
       "      <td>0.028536</td>\n",
       "      <td>0.148808</td>\n",
       "      <td>0.101882</td>\n",
       "      <td>0.050798</td>\n",
       "      <td>1.00000</td>\n",
       "    </tr>\n",
       "  </tbody>\n",
       "</table>\n",
       "</div>"
      ],
      "text/plain": [
       "relationship   Husband   Not-in-family   Other-relative   Own-child  \\\n",
       "Salary                                                                \n",
       " <=50K        0.211400        0.215738         0.027209    0.146406   \n",
       " >50K         0.212153        0.030687         0.001326    0.002402   \n",
       "All           0.423553        0.246424         0.028536    0.148808   \n",
       "\n",
       "relationship   Unmarried      Wife      All  \n",
       "Salary                                       \n",
       " <=50K          0.094067  0.024090  0.71891  \n",
       " >50K           0.007815  0.026707  0.28109  \n",
       "All             0.101882  0.050798  1.00000  "
      ]
     },
     "execution_count": 57,
     "metadata": {},
     "output_type": "execute_result"
    }
   ],
   "source": [
    "# Relationship vs salary\n",
    "pd.crosstab(\n",
    "    index=df['Salary'],\n",
    "    columns=df['relationship'],\n",
    "    margins=True,\n",
    "    normalize=True)"
   ]
  },
  {
   "cell_type": "code",
   "execution_count": 58,
   "id": "cb835f48",
   "metadata": {},
   "outputs": [
    {
     "data": {
      "text/html": [
       "<div>\n",
       "<style scoped>\n",
       "    .dataframe tbody tr th:only-of-type {\n",
       "        vertical-align: middle;\n",
       "    }\n",
       "\n",
       "    .dataframe tbody tr th {\n",
       "        vertical-align: top;\n",
       "    }\n",
       "\n",
       "    .dataframe thead th {\n",
       "        text-align: right;\n",
       "    }\n",
       "</style>\n",
       "<table border=\"1\" class=\"dataframe\">\n",
       "  <thead>\n",
       "    <tr style=\"text-align: right;\">\n",
       "      <th>sex</th>\n",
       "      <th>Female</th>\n",
       "      <th>Male</th>\n",
       "      <th>All</th>\n",
       "    </tr>\n",
       "    <tr>\n",
       "      <th>Salary</th>\n",
       "      <th></th>\n",
       "      <th></th>\n",
       "      <th></th>\n",
       "    </tr>\n",
       "  </thead>\n",
       "  <tbody>\n",
       "    <tr>\n",
       "      <th>&lt;=50K</th>\n",
       "      <td>7763</td>\n",
       "      <td>12291</td>\n",
       "      <td>20054</td>\n",
       "    </tr>\n",
       "    <tr>\n",
       "      <th>&gt;50K</th>\n",
       "      <td>1177</td>\n",
       "      <td>6664</td>\n",
       "      <td>7841</td>\n",
       "    </tr>\n",
       "    <tr>\n",
       "      <th>All</th>\n",
       "      <td>8940</td>\n",
       "      <td>18955</td>\n",
       "      <td>27895</td>\n",
       "    </tr>\n",
       "  </tbody>\n",
       "</table>\n",
       "</div>"
      ],
      "text/plain": [
       "sex      Female   Male    All\n",
       "Salary                       \n",
       " <=50K     7763  12291  20054\n",
       " >50K      1177   6664   7841\n",
       "All        8940  18955  27895"
      ]
     },
     "execution_count": 58,
     "metadata": {},
     "output_type": "execute_result"
    }
   ],
   "source": [
    "pd.crosstab(\n",
    "    index=df['Salary'],\n",
    "    columns=df['sex'],\n",
    "    margins=True)"
   ]
  },
  {
   "cell_type": "code",
   "execution_count": 59,
   "id": "9a5d5bd4",
   "metadata": {},
   "outputs": [
    {
     "data": {
      "text/html": [
       "<div>\n",
       "<style scoped>\n",
       "    .dataframe tbody tr th:only-of-type {\n",
       "        vertical-align: middle;\n",
       "    }\n",
       "\n",
       "    .dataframe tbody tr th {\n",
       "        vertical-align: top;\n",
       "    }\n",
       "\n",
       "    .dataframe thead th {\n",
       "        text-align: right;\n",
       "    }\n",
       "</style>\n",
       "<table border=\"1\" class=\"dataframe\">\n",
       "  <thead>\n",
       "    <tr style=\"text-align: right;\">\n",
       "      <th></th>\n",
       "      <th>age</th>\n",
       "      <th>workclass</th>\n",
       "      <th>fnlwgt</th>\n",
       "      <th>education</th>\n",
       "      <th>education_num</th>\n",
       "      <th>marital_status</th>\n",
       "      <th>occupation</th>\n",
       "      <th>relationship</th>\n",
       "      <th>race</th>\n",
       "      <th>sex</th>\n",
       "      <th>capital_gain</th>\n",
       "      <th>capital-loss</th>\n",
       "      <th>hours_per_week</th>\n",
       "      <th>native_country</th>\n",
       "      <th>Salary</th>\n",
       "    </tr>\n",
       "  </thead>\n",
       "  <tbody>\n",
       "    <tr>\n",
       "      <th>0</th>\n",
       "      <td>52.0</td>\n",
       "      <td>Self-emp-not-inc</td>\n",
       "      <td>209642</td>\n",
       "      <td>HS-grad</td>\n",
       "      <td>9</td>\n",
       "      <td>Married-civ-spouse</td>\n",
       "      <td>Exec-managerial</td>\n",
       "      <td>Husband</td>\n",
       "      <td>White</td>\n",
       "      <td>Male</td>\n",
       "      <td>0</td>\n",
       "      <td>0</td>\n",
       "      <td>45</td>\n",
       "      <td>United-States</td>\n",
       "      <td>&gt;50K</td>\n",
       "    </tr>\n",
       "    <tr>\n",
       "      <th>1</th>\n",
       "      <td>31.0</td>\n",
       "      <td>Private</td>\n",
       "      <td>45781</td>\n",
       "      <td>Masters</td>\n",
       "      <td>14</td>\n",
       "      <td>Never-married</td>\n",
       "      <td>Prof-specialty</td>\n",
       "      <td>Not-in-family</td>\n",
       "      <td>White</td>\n",
       "      <td>Female</td>\n",
       "      <td>14084</td>\n",
       "      <td>0</td>\n",
       "      <td>50</td>\n",
       "      <td>United-States</td>\n",
       "      <td>&gt;50K</td>\n",
       "    </tr>\n",
       "  </tbody>\n",
       "</table>\n",
       "</div>"
      ],
      "text/plain": [
       "    age          workclass  fnlwgt education  education_num  \\\n",
       "0  52.0   Self-emp-not-inc  209642   HS-grad              9   \n",
       "1  31.0            Private   45781   Masters             14   \n",
       "\n",
       "        marital_status        occupation    relationship    race      sex  \\\n",
       "0   Married-civ-spouse   Exec-managerial         Husband   White     Male   \n",
       "1        Never-married    Prof-specialty   Not-in-family   White   Female   \n",
       "\n",
       "   capital_gain  capital-loss  hours_per_week  native_country Salary  \n",
       "0             0             0              45   United-States   >50K  \n",
       "1         14084             0              50   United-States   >50K  "
      ]
     },
     "execution_count": 59,
     "metadata": {},
     "output_type": "execute_result"
    }
   ],
   "source": [
    "df.head(2)"
   ]
  },
  {
   "cell_type": "markdown",
   "id": "d43d1580",
   "metadata": {},
   "source": [
    "# Feature Engineering"
   ]
  },
  {
   "cell_type": "code",
   "execution_count": 60,
   "id": "03d8a6a3",
   "metadata": {},
   "outputs": [
    {
     "data": {
      "text/plain": [
       "Index(['age', 'workclass', 'fnlwgt', 'education', 'education_num',\n",
       "       'marital_status', 'occupation', 'relationship', 'race', 'sex',\n",
       "       'capital_gain', 'capital-loss', 'hours_per_week', 'native_country',\n",
       "       'Salary'],\n",
       "      dtype='object')"
      ]
     },
     "execution_count": 60,
     "metadata": {},
     "output_type": "execute_result"
    }
   ],
   "source": [
    "df.columns"
   ]
  },
  {
   "cell_type": "code",
   "execution_count": 61,
   "id": "13164831",
   "metadata": {},
   "outputs": [],
   "source": [
    "# convert >50k to 1 and <=50k to 0\n",
    "df['Salary'] = df['Salary'].map({' >50K': 1, ' <=50K': 0})"
   ]
  },
  {
   "cell_type": "code",
   "execution_count": 62,
   "id": "a11259eb",
   "metadata": {},
   "outputs": [],
   "source": [
    "X = df.iloc[:, :-1]\n",
    "y = df['Salary']"
   ]
  },
  {
   "cell_type": "code",
   "execution_count": 63,
   "id": "0185a295",
   "metadata": {},
   "outputs": [],
   "source": [
    "# make sure that all discrete features be converted to numbers\n",
    "from sklearn.feature_selection import mutual_info_regression\n",
    "def get_mi_score(X, y):\n",
    "    X1 = X.copy()\n",
    "    for i in X1.select_dtypes('object').columns:\n",
    "        X1[i], _ = X1[i].factorize()\n",
    "    mi_score = mutual_info_regression(X1, y)\n",
    "    return pd.Series(mi_score, name='MI Score', index=X1.columns).sort_values(ascending=False)"
   ]
  },
  {
   "cell_type": "code",
   "execution_count": 64,
   "id": "6f0f26f5",
   "metadata": {},
   "outputs": [
    {
     "data": {
      "text/plain": [
       "relationship      0.128020\n",
       "marital_status    0.116793\n",
       "capital_gain      0.090646\n",
       "education         0.080662\n",
       "age               0.078991\n",
       "occupation        0.075511\n",
       "education_num     0.071045\n",
       "capital-loss      0.047251\n",
       "hours_per_week    0.046212\n",
       "fnlwgt            0.036508\n",
       "sex               0.032982\n",
       "workclass         0.011781\n",
       "race              0.001235\n",
       "native_country    0.000028\n",
       "Name: MI Score, dtype: float64"
      ]
     },
     "execution_count": 64,
     "metadata": {},
     "output_type": "execute_result"
    }
   ],
   "source": [
    "mi_score = get_mi_score(X, y)\n",
    "mi_score"
   ]
  },
  {
   "cell_type": "code",
   "execution_count": 65,
   "id": "2b0d44c8",
   "metadata": {},
   "outputs": [
    {
     "data": {
      "text/plain": [
       "[Text(0.5, 1.0, 'MI Scores')]"
      ]
     },
     "execution_count": 65,
     "metadata": {},
     "output_type": "execute_result"
    },
    {
     "data": {
      "image/png": "[encoded data removed]",
      "text/plain": [
       "<Figure size 576x432 with 1 Axes>"
      ]
     },
     "metadata": {},
     "output_type": "display_data"
    }
   ],
   "source": [
    "# plot mi scores\n",
    "mi_score = pd.DataFrame(mi_score).sort_values(by='MI Score')\n",
    "fig = plt.figure(figsize=(8, 6))\n",
    "ax = fig.gca()\n",
    "mi_score.plot.barh(ax=ax)\n",
    "ax.set(title='MI Scores')"
   ]
  },
  {
   "cell_type": "code",
   "execution_count": 66,
   "id": "140e4531",
   "metadata": {},
   "outputs": [],
   "source": [
    "# remove two features with lowest mi scores, almost 0\n",
    "fs = ['native_country', 'fnlwgt']\n",
    "X.drop(fs, axis=1, inplace=True)\n",
    "del fs\n",
    "# delete fs variable"
   ]
  },
  {
   "cell_type": "code",
   "execution_count": 67,
   "id": "b11be410",
   "metadata": {},
   "outputs": [
    {
     "data": {
      "text/html": [
       "<div>\n",
       "<style scoped>\n",
       "    .dataframe tbody tr th:only-of-type {\n",
       "        vertical-align: middle;\n",
       "    }\n",
       "\n",
       "    .dataframe tbody tr th {\n",
       "        vertical-align: top;\n",
       "    }\n",
       "\n",
       "    .dataframe thead th {\n",
       "        text-align: right;\n",
       "    }\n",
       "</style>\n",
       "<table border=\"1\" class=\"dataframe\">\n",
       "  <thead>\n",
       "    <tr style=\"text-align: right;\">\n",
       "      <th></th>\n",
       "      <th>age</th>\n",
       "      <th>workclass</th>\n",
       "      <th>education</th>\n",
       "      <th>education_num</th>\n",
       "      <th>marital_status</th>\n",
       "      <th>occupation</th>\n",
       "      <th>relationship</th>\n",
       "      <th>race</th>\n",
       "      <th>sex</th>\n",
       "      <th>capital_gain</th>\n",
       "      <th>capital-loss</th>\n",
       "      <th>hours_per_week</th>\n",
       "    </tr>\n",
       "  </thead>\n",
       "  <tbody>\n",
       "    <tr>\n",
       "      <th>0</th>\n",
       "      <td>52.0</td>\n",
       "      <td>0</td>\n",
       "      <td>0</td>\n",
       "      <td>9</td>\n",
       "      <td>0</td>\n",
       "      <td>0</td>\n",
       "      <td>0</td>\n",
       "      <td>0</td>\n",
       "      <td>0</td>\n",
       "      <td>0</td>\n",
       "      <td>0</td>\n",
       "      <td>45</td>\n",
       "    </tr>\n",
       "    <tr>\n",
       "      <th>1</th>\n",
       "      <td>31.0</td>\n",
       "      <td>1</td>\n",
       "      <td>1</td>\n",
       "      <td>14</td>\n",
       "      <td>1</td>\n",
       "      <td>1</td>\n",
       "      <td>1</td>\n",
       "      <td>0</td>\n",
       "      <td>1</td>\n",
       "      <td>14084</td>\n",
       "      <td>0</td>\n",
       "      <td>50</td>\n",
       "    </tr>\n",
       "    <tr>\n",
       "      <th>2</th>\n",
       "      <td>42.0</td>\n",
       "      <td>1</td>\n",
       "      <td>2</td>\n",
       "      <td>13</td>\n",
       "      <td>0</td>\n",
       "      <td>0</td>\n",
       "      <td>0</td>\n",
       "      <td>0</td>\n",
       "      <td>0</td>\n",
       "      <td>5178</td>\n",
       "      <td>0</td>\n",
       "      <td>40</td>\n",
       "    </tr>\n",
       "    <tr>\n",
       "      <th>3</th>\n",
       "      <td>37.0</td>\n",
       "      <td>1</td>\n",
       "      <td>3</td>\n",
       "      <td>10</td>\n",
       "      <td>0</td>\n",
       "      <td>0</td>\n",
       "      <td>0</td>\n",
       "      <td>1</td>\n",
       "      <td>0</td>\n",
       "      <td>0</td>\n",
       "      <td>0</td>\n",
       "      <td>80</td>\n",
       "    </tr>\n",
       "    <tr>\n",
       "      <th>4</th>\n",
       "      <td>30.0</td>\n",
       "      <td>2</td>\n",
       "      <td>2</td>\n",
       "      <td>13</td>\n",
       "      <td>0</td>\n",
       "      <td>1</td>\n",
       "      <td>0</td>\n",
       "      <td>2</td>\n",
       "      <td>0</td>\n",
       "      <td>0</td>\n",
       "      <td>0</td>\n",
       "      <td>40</td>\n",
       "    </tr>\n",
       "  </tbody>\n",
       "</table>\n",
       "</div>"
      ],
      "text/plain": [
       "    age  workclass  education  education_num  marital_status  occupation  \\\n",
       "0  52.0          0          0              9               0           0   \n",
       "1  31.0          1          1             14               1           1   \n",
       "2  42.0          1          2             13               0           0   \n",
       "3  37.0          1          3             10               0           0   \n",
       "4  30.0          2          2             13               0           1   \n",
       "\n",
       "   relationship  race  sex  capital_gain  capital-loss  hours_per_week  \n",
       "0             0     0    0             0             0              45  \n",
       "1             1     0    1         14084             0              50  \n",
       "2             0     0    0          5178             0              40  \n",
       "3             0     1    0             0             0              80  \n",
       "4             0     2    0             0             0              40  "
      ]
     },
     "execution_count": 67,
     "metadata": {},
     "output_type": "execute_result"
    }
   ],
   "source": [
    "# convert categories into numbers\n",
    "for i in X.select_dtypes('object').columns:\n",
    "    X[i], _ = X[i].factorize()\n",
    "X.head()"
   ]
  },
  {
   "cell_type": "code",
   "execution_count": 68,
   "id": "b0309b77",
   "metadata": {},
   "outputs": [
    {
     "data": {
      "text/plain": [
       "age               float64\n",
       "workclass           int64\n",
       "education           int64\n",
       "education_num       int64\n",
       "marital_status      int64\n",
       "occupation          int64\n",
       "relationship        int64\n",
       "race                int64\n",
       "sex                 int64\n",
       "capital_gain        int64\n",
       "capital-loss        int64\n",
       "hours_per_week      int64\n",
       "dtype: object"
      ]
     },
     "execution_count": 68,
     "metadata": {},
     "output_type": "execute_result"
    }
   ],
   "source": [
    "X.dtypes"
   ]
  },
  {
   "cell_type": "markdown",
   "id": "bbb88cac",
   "metadata": {},
   "source": [
    "# Modeling"
   ]
  },
  {
   "cell_type": "code",
   "execution_count": 69,
   "id": "a1b0cd7e",
   "metadata": {},
   "outputs": [],
   "source": [
    "# spilt the train and test data\n",
    "from sklearn.model_selection import train_test_split\n",
    "X_train, X_test, y_train, y_test = train_test_split(X, y, test_size=1/3, random_state=10)"
   ]
  },
  {
   "cell_type": "markdown",
   "id": "c8244b1d",
   "metadata": {},
   "source": [
    "Logistic Regression"
   ]
  },
  {
   "cell_type": "code",
   "execution_count": 70,
   "id": "d9239def",
   "metadata": {},
   "outputs": [
    {
     "data": {
      "text/plain": [
       "LogisticRegression(max_iter=27895, random_state=0)"
      ]
     },
     "execution_count": 70,
     "metadata": {},
     "output_type": "execute_result"
    }
   ],
   "source": [
    "# fit the model\n",
    "from sklearn.linear_model import LogisticRegression\n",
    "logR = LogisticRegression(random_state=0, max_iter=X.shape[0])\n",
    "logR.fit(X_train, y_train)"
   ]
  },
  {
   "cell_type": "code",
   "execution_count": 71,
   "id": "aba6c136",
   "metadata": {},
   "outputs": [
    {
     "data": {
      "text/plain": [
       "array([0, 0, 0, ..., 0, 1, 0], dtype=int64)"
      ]
     },
     "execution_count": 71,
     "metadata": {},
     "output_type": "execute_result"
    }
   ],
   "source": [
    "# predict\n",
    "y_pred = logR.predict(X_test)\n",
    "y_pred"
   ]
  },
  {
   "cell_type": "code",
   "execution_count": 72,
   "id": "bd3380aa",
   "metadata": {},
   "outputs": [
    {
     "data": {
      "text/plain": [
       "array([[6099,  544],\n",
       "       [1051, 1605]], dtype=int64)"
      ]
     },
     "execution_count": 72,
     "metadata": {},
     "output_type": "execute_result"
    }
   ],
   "source": [
    "# calculate accuracy\n",
    "from sklearn.metrics import confusion_matrix\n",
    "cm = confusion_matrix(y_test, y_pred)\n",
    "cm"
   ]
  },
  {
   "cell_type": "code",
   "execution_count": 73,
   "id": "46d80217",
   "metadata": {},
   "outputs": [
    {
     "name": "stdout",
     "output_type": "stream",
     "text": [
      "Accuracy:  82.84761802344337\n"
     ]
    }
   ],
   "source": [
    "# percentage\n",
    "accuracy = (cm[0,0] + cm[1,1]) / cm.sum()\n",
    "print(\"Accuracy: \", accuracy * 100)"
   ]
  },
  {
   "cell_type": "markdown",
   "id": "49b3c869",
   "metadata": {},
   "source": [
    "Random Forest"
   ]
  },
  {
   "cell_type": "code",
   "execution_count": 74,
   "id": "122c6bbb",
   "metadata": {},
   "outputs": [
    {
     "data": {
      "text/plain": [
       "RandomForestClassifier(random_state=0)"
      ]
     },
     "execution_count": 74,
     "metadata": {},
     "output_type": "execute_result"
    }
   ],
   "source": [
    "# fit the model\n",
    "from sklearn.ensemble import RandomForestClassifier\n",
    "rf = RandomForestClassifier(random_state=0)\n",
    "rf.fit(X_train, y_train)"
   ]
  },
  {
   "cell_type": "code",
   "execution_count": 75,
   "id": "a1489e29",
   "metadata": {},
   "outputs": [
    {
     "data": {
      "text/plain": [
       "array([0, 0, 0, ..., 0, 1, 0], dtype=int64)"
      ]
     },
     "execution_count": 75,
     "metadata": {},
     "output_type": "execute_result"
    }
   ],
   "source": [
    "# predict\n",
    "y_pred = rf.predict(X_test)\n",
    "y_pred"
   ]
  },
  {
   "cell_type": "code",
   "execution_count": 76,
   "id": "be745c6f",
   "metadata": {},
   "outputs": [
    {
     "data": {
      "text/plain": [
       "array([[6006,  637],\n",
       "       [ 888, 1768]], dtype=int64)"
      ]
     },
     "execution_count": 76,
     "metadata": {},
     "output_type": "execute_result"
    }
   ],
   "source": [
    "# calculate accuracy\n",
    "from sklearn.metrics import confusion_matrix\n",
    "cm = confusion_matrix(y_test, y_pred)\n",
    "cm"
   ]
  },
  {
   "cell_type": "code",
   "execution_count": 77,
   "id": "9d4f9632",
   "metadata": {},
   "outputs": [
    {
     "name": "stdout",
     "output_type": "stream",
     "text": [
      "Accuracy:  83.60038713840197\n"
     ]
    }
   ],
   "source": [
    "# percentage\n",
    "accuracy = (cm[0,0] + cm[1,1]) / cm.sum()\n",
    "print(\"Accuracy: \", accuracy * 100)"
   ]
  },
  {
   "cell_type": "markdown",
   "id": "5db6c2e9",
   "metadata": {},
   "source": [
    " K-Nearest Neighbors (KNN)"
   ]
  },
  {
   "cell_type": "code",
   "execution_count": 78,
   "id": "5846ce41",
   "metadata": {},
   "outputs": [
    {
     "data": {
      "text/html": [
       "<div>\n",
       "<style scoped>\n",
       "    .dataframe tbody tr th:only-of-type {\n",
       "        vertical-align: middle;\n",
       "    }\n",
       "\n",
       "    .dataframe tbody tr th {\n",
       "        vertical-align: top;\n",
       "    }\n",
       "\n",
       "    .dataframe thead th {\n",
       "        text-align: right;\n",
       "    }\n",
       "</style>\n",
       "<table border=\"1\" class=\"dataframe\">\n",
       "  <thead>\n",
       "    <tr style=\"text-align: right;\">\n",
       "      <th></th>\n",
       "      <th>scores</th>\n",
       "    </tr>\n",
       "  </thead>\n",
       "  <tbody>\n",
       "    <tr>\n",
       "      <th>7</th>\n",
       "      <td>0.836326</td>\n",
       "    </tr>\n",
       "    <tr>\n",
       "      <th>9</th>\n",
       "      <td>0.834821</td>\n",
       "    </tr>\n",
       "    <tr>\n",
       "      <th>5</th>\n",
       "      <td>0.831917</td>\n",
       "    </tr>\n",
       "    <tr>\n",
       "      <th>3</th>\n",
       "      <td>0.824497</td>\n",
       "    </tr>\n",
       "    <tr>\n",
       "      <th>1</th>\n",
       "      <td>0.809012</td>\n",
       "    </tr>\n",
       "  </tbody>\n",
       "</table>\n",
       "</div>"
      ],
      "text/plain": [
       "     scores\n",
       "7  0.836326\n",
       "9  0.834821\n",
       "5  0.831917\n",
       "3  0.824497\n",
       "1  0.809012"
      ]
     },
     "execution_count": 78,
     "metadata": {},
     "output_type": "execute_result"
    }
   ],
   "source": [
    "# Let's first find the best value for K. In this case for 'n_neighbors' argument\n",
    "from sklearn.neighbors import KNeighborsClassifier\n",
    "scores = []\n",
    "for i in range(1, 10, 2):\n",
    "    knn = KNeighborsClassifier(n_neighbors=i)\n",
    "    knn.fit(X_train, y_train)\n",
    "    score = knn.score(X_test, y_test)\n",
    "    scores.append(score)\n",
    "scores = pd.DataFrame(pd.Series(scores, index=[1,3,5,7,9], name='scores'))\\\n",
    "    .sort_values(by='scores', ascending=False)\n",
    "scores"
   ]
  },
  {
   "cell_type": "code",
   "execution_count": 79,
   "id": "f3c1e891",
   "metadata": {},
   "outputs": [
    {
     "data": {
      "text/plain": [
       "KNeighborsClassifier(n_neighbors=7)"
      ]
     },
     "execution_count": 79,
     "metadata": {},
     "output_type": "execute_result"
    }
   ],
   "source": [
    "#From the above chart, k=7 has the highest value. Hence, that is the best choice for K\n",
    "# fit the model\n",
    "from sklearn.neighbors import KNeighborsClassifier\n",
    "knn = KNeighborsClassifier(n_neighbors=7)\n",
    "knn.fit(X_train, y_train)"
   ]
  },
  {
   "cell_type": "code",
   "execution_count": 80,
   "id": "459ba61c",
   "metadata": {},
   "outputs": [],
   "source": [
    "# predict\n",
    "y_pred = knn.predict(X_test)"
   ]
  },
  {
   "cell_type": "code",
   "execution_count": 81,
   "id": "0a89f1dd",
   "metadata": {},
   "outputs": [
    {
     "data": {
      "text/plain": [
       "array([[6056,  587],\n",
       "       [ 935, 1721]], dtype=int64)"
      ]
     },
     "execution_count": 81,
     "metadata": {},
     "output_type": "execute_result"
    }
   ],
   "source": [
    "# calculate accuracy\n",
    "from sklearn.metrics import confusion_matrix\n",
    "cm = confusion_matrix(y_test, y_pred)\n",
    "cm\n"
   ]
  },
  {
   "cell_type": "code",
   "execution_count": 82,
   "id": "c2412f88",
   "metadata": {},
   "outputs": [
    {
     "name": "stdout",
     "output_type": "stream",
     "text": [
      "Accuracy:  83.6326486719002\n"
     ]
    }
   ],
   "source": [
    "# percentage\n",
    "accuracy = (cm[0,0] + cm[1,1]) / cm.sum()\n",
    "print(\"Accuracy: \", accuracy * 100)"
   ]
  },
  {
   "cell_type": "markdown",
   "id": "780f38b5",
   "metadata": {},
   "source": [
    "# Comparison"
   ]
  },
  {
   "cell_type": "raw",
   "id": "da63a0ff",
   "metadata": {},
   "source": [
    "Logistic Regression: 82.8476\n",
    "Random Forest: 83.6003\n",
    "KNN: 83.6326"
   ]
  }
 ],
 "metadata": {
  "kernelspec": {
   "display_name": "Python 3 (ipykernel)",
   "language": "python",
   "name": "python3"
  },
  "language_info": {
   "codemirror_mode": {
    "name": "ipython",
    "version": 3
   },
   "file_extension": ".py",
   "mimetype": "text/x-python",
   "name": "python",
   "nbconvert_exporter": "python",
   "pygments_lexer": "ipython3",
   "version": "3.9.12"
  }
 },
 "nbformat": 4,
 "nbformat_minor": 5
}
